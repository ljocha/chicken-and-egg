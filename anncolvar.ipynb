{
 "cells": [
  {
   "cell_type": "code",
   "execution_count": null,
   "metadata": {},
   "outputs": [],
   "source": [
    "# the same housekeeping\n",
    "import os\n",
    "\n",
    "try:\n",
    "    workdir\n",
    "    raise Exception(\"This cell should be run only once (workdir = %s)\" % workdir)\n",
    "except NameError:\n",
    "    pass\n",
    "   \n",
    "basedir=os.getcwd()\n",
    "workdir=basedir + '/work'"
   ]
  },
  {
   "cell_type": "code",
   "execution_count": 16,
   "metadata": {},
   "outputs": [],
   "source": [
    "import mdtraj as md\n",
    "import os\n",
    "\n",
    "os.chdir(workdir)\n",
    "\n",
    "tr = md.load('full-landmarks.pdb')\n",
    "heavy_idx = tr[0].top.select(\"element != H\")\n",
    "\n",
    "heavy = tr.atom_slice(heavy_idx)\n",
    "heavy.center_coordinates()\n",
    "first = heavy.slice(0)\n",
    "\n",
    "\n",
    "heavy.save_xtc('heavy-landmarks.xtc')\n",
    "first.save_pdb('heavy1.pdb')\n",
    "\n",
    "\n"
   ]
  },
  {
   "cell_type": "code",
   "execution_count": null,
   "metadata": {},
   "outputs": [],
   "source": [
    "import anncolvar\n",
    "\n",
    "epochs = 500\n",
    "\n",
    "# anncolvar defaults\n",
    "nlayers = 1\n",
    "layers = [32, 0, 0]\n",
    "actfun = ['sigmoid','linear','linear']\n",
    "optim = 'adam'\n",
    "loss = 'mean_squared_error'\n",
    "batch = 256\n",
    "\n",
    "\n",
    "\n",
    "os.chdir(workdir)\n",
    "\n",
    "rg = md.compute_rg(first)\n",
    "\n",
    "# magic -- seems to be safe\n",
    "box = rg[0] * 5\n",
    "\n",
    "!gmx editconf -f heavy1.pdb -o reference.pdb -box {box} {box} {box} -c \n",
    "\n",
    "# XXX: too much stdout \n",
    "for col in [1,2]:\n",
    "    anncolvar.anncollectivevariable('heavy-landmarks.xtc','reference.pdb','colvar.txt',col,\n",
    "                                    box,box,box,.1,0,0,\n",
    "                                    nlayers,*layers,\n",
    "                                    *actfun,\n",
    "                                    optim,loss,epochs,batch,\n",
    "                                    '','','plumed%d.dat' % col)\n",
    "                                    \n",
    "                                    "
   ]
  },
  {
   "cell_type": "code",
   "execution_count": 31,
   "metadata": {},
   "outputs": [],
   "source": [
    "import os\n",
    "import re\n",
    "\n",
    "os.chdir(workdir)\n",
    "with open('plumed.dat','w') as fout:\n",
    "    for col in [1,2]:\n",
    "        with open('plumed%d.dat' % col) as fin:\n",
    "            for line in fin:\n",
    "                w = line.split()\n",
    "                if w[1] == 'POSITION':\n",
    "                    a = w[2].split('=')\n",
    "                    line = w[0] + (' POSITION ATOM=%d ' % (heavy_idx[int(a[1])-1]+1)) + ' '.join(w[3:]) + '\\n'\n",
    "                if re.match('[pl][0-9_rxyz]',line):\n",
    "                    line = re.sub('[pl][0-9_rxyz]','cv%d_\\g<0>' % col,line)\n",
    "                    fout.write(line)\n",
    "                elif col == 1 and not re.match('PRINT',line):\n",
    "                    fout.write(line)\n",
    "  \n",
    "    # XXX: hardcoded\n",
    "    fout.write('PRINT ARG=cv1_l2r,cv2_l2r STRIDE=100 FILE=COLVAR\\n')\n",
    "    fout.write('METAD ARG=cv1_l2r,cv2_l2r SIGMA=0.1,0.1 HEIGHT=1.0 PACE=1000 BIASFACTOR=15 TEMP=300 LABEL=restraint\\n')\n",
    "                "
   ]
  }
 ],
 "metadata": {
  "kernelspec": {
   "display_name": "Python 3",
   "language": "python",
   "name": "python3"
  },
  "language_info": {
   "codemirror_mode": {
    "name": "ipython",
    "version": 3
   },
   "file_extension": ".py",
   "mimetype": "text/x-python",
   "name": "python",
   "nbconvert_exporter": "python",
   "pygments_lexer": "ipython3",
   "version": "3.6.8"
  }
 },
 "nbformat": 4,
 "nbformat_minor": 2
}
