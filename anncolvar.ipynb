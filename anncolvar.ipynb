{
 "cells": [
  {
   "cell_type": "code",
   "execution_count": null,
   "metadata": {},
   "outputs": [],
   "source": [
    "# the same housekeeping\n",
    "import os\n",
    "\n",
    "try:\n",
    "    workdir\n",
    "    raise Exception(\"This cell should be run only once (workdir = %s)\" % workdir)\n",
    "except NameError:\n",
    "    pass\n",
    "   \n",
    "basedir=os.getcwd()\n",
    "workdir=basedir + '/work'"
   ]
  },
  {
   "cell_type": "code",
   "execution_count": null,
   "metadata": {},
   "outputs": [],
   "source": [
    "import mdtraj as md\n",
    "import os\n",
    "\n",
    "os.chdir(workdir)\n",
    "\n",
    "tr = md.load('full-landmarks.pdb')\n",
    "idx = tr[0].top.select(\"element != H\")\n",
    "\n",
    "heavy = tr.atom_slice(idx)\n",
    "heavy.center_coordinates()\n",
    "first = heavy.slice(0)\n",
    "\n",
    "\n",
    "heavy.save_xtc('heavy-landmarks.xtc')\n",
    "first.save_pdb('heavy1.pdb')\n",
    "\n",
    "\n"
   ]
  },
  {
   "cell_type": "code",
   "execution_count": null,
   "metadata": {},
   "outputs": [],
   "source": [
    "import anncolvar\n",
    "\n",
    "nlayers = 1\n",
    "layers = [32, 0, 0]\n",
    "actfun = ['sigmoid','linear','linear']\n",
    "optim = 'adam'\n",
    "loss = 'mean_squared_error'\n",
    "epochs = 500\n",
    "batch = 256\n",
    "\n",
    "os.chdir(workdir)\n",
    "\n",
    "rg = md.compute_rg(first)\n",
    "\n",
    "# magic -- seems to be safe\n",
    "box = rg[0] * 5\n",
    "\n",
    "!gmx editconf -f heavy1.pdb -o reference.pdb -box {box} {box} {box} -c \n",
    "\n",
    "# XXX: too much stdout \n",
    "for col in [1,2]:\n",
    "    anncolvar.anncollectivevariable('heavy-landmarks.xtc','reference.pdb','colvar.txt',col,\n",
    "                                    box,box,box,.1,0,0,\n",
    "                                    1,*layers,\n",
    "                                    *actfun,\n",
    "                                    optim,loss,epochs,batch,\n",
    "                                    '','','plumed%d.dat' % col)\n",
    "                                    \n",
    "                                    "
   ]
  },
  {
   "cell_type": "code",
   "execution_count": null,
   "metadata": {},
   "outputs": [],
   "source": [
    "# TODO: renumber atoms in plumed*.dat back and merge them"
   ]
  }
 ],
 "metadata": {
  "kernelspec": {
   "display_name": "Python 3",
   "language": "python",
   "name": "python3"
  },
  "language_info": {
   "codemirror_mode": {
    "name": "ipython",
    "version": 3
   },
   "file_extension": ".py",
   "mimetype": "text/x-python",
   "name": "python",
   "nbconvert_exporter": "python",
   "pygments_lexer": "ipython3",
   "version": "3.6.8"
  }
 },
 "nbformat": 4,
 "nbformat_minor": 2
}
