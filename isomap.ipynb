{
 "cells": [
  {
   "cell_type": "markdown",
   "metadata": {},
   "source": [
    "# Chicken and egg in molecular metadynamics\n",
    "Create protein folding landmarks from scratch\n",
    "\n",
    "[Contents](index.ipynb)\n",
    "\n",
    "Prev: [Generate random lanmarks](gen-landmarks.ipynb)\n",
    "Next: [Train the ANN](anncolvar.ipynb)\n",
    "\n",
    "## 2. Compute isomap projection of the landmarks\n"
   ]
  },
  {
   "cell_type": "code",
   "execution_count": null,
   "metadata": {},
   "outputs": [],
   "source": [
    "# the same housekeeping\n",
    "import os\n",
    "\n",
    "try:\n",
    "    workdir\n",
    "    raise Exception(\"This cell should be run only once (workdir = %s)\" % workdir)\n",
    "except NameError:\n",
    "    pass\n",
    "   \n",
    "basedir=os.getcwd()\n",
    "workdir=basedir + '/work'"
   ]
  },
  {
   "cell_type": "code",
   "execution_count": null,
   "metadata": {},
   "outputs": [],
   "source": [
    "# XXX: MUST be the same as in gen-landmarks\n",
    "\n",
    "# number of steps to twist a dihedral\n",
    "nsteps = 12\n",
    "# number of iterations; alltogether niter * nsteps random conformers are generated\n",
    "niter = 200\n",
    "\n",
    "\n",
    "\n",
    "# number of nearest neighbours to consider (aka _k_)\n",
    "neighs = 5\n",
    "# targed no. of dimensions \n",
    "dims = 2"
   ]
  },
  {
   "cell_type": "code",
   "execution_count": null,
   "metadata": {},
   "outputs": [],
   "source": [
    "import os\n",
    "import mdtraj as md\n",
    "import numpy as np\n",
    "from scipy.sparse import coo_matrix\n",
    "\n",
    "os.chdir(workdir)\n",
    "\n",
    "nconf = niter * nsteps\n",
    "\n",
    "# superpose all landmarks on the first one\n",
    "tr = md.load([ \"conf%d-min.gro\" % i for i in range(1,nconf+1)])\n",
    "idx = tr[0].top.select(\"name CA\")\n",
    "tr.superpose(tr[0],atom_indices=idx)\n",
    "\n",
    "# consider heavy atoms only \n",
    "idx = tr[0].top.select(\"element != H\")\n",
    "\n",
    "# compute all-to-all RMSD and select _k_ closest neighbours\n",
    "row=[]\n",
    "col=[]\n",
    "dat=[]\n",
    "\n",
    "for i in range(nconf):\n",
    "    d = md.rmsd(tr,tr,frame=i,atom_indices=idx)\n",
    "    d[range(i+1)] = np.inf\n",
    "    for _ in range(neighs):\n",
    "        j = np.argmin(d)\n",
    "        if d[j] < np.inf:\n",
    "            row.append(i)\n",
    "            col.append(j)\n",
    "            dat.append(d[j])\n",
    "            row.append(j)\n",
    "            col.append(i)\n",
    "            dat.append(d[j])\n",
    "            d[j] = np.inf\n",
    "\n",
    "# store results in sparse matrix\n",
    "dist = coo_matrix((dat,(row,col)),shape=(nconf,nconf)) "
   ]
  },
  {
   "cell_type": "code",
   "execution_count": null,
   "metadata": {},
   "outputs": [],
   "source": [
    "# isomap itself: compute shortest paths in the k-neighbours graph, \n",
    "# and multi-dimensional scaling on the resulting all-to-all distances\n",
    "\n",
    "from sklearn.utils.graph_shortest_path import graph_shortest_path\n",
    "from sklearn.manifold import MDS\n",
    "\n",
    "sp = graph_shortest_path(dist,directed=False)\n",
    "mds = MDS(n_components=dims,dissimilarity='precomputed',n_jobs=-1)\n",
    "emb = mds.fit_transform(sp)"
   ]
  },
  {
   "cell_type": "code",
   "execution_count": null,
   "metadata": {},
   "outputs": [],
   "source": [
    "%matplotlib notebook\n",
    "import matplotlib.pyplot as plt\n",
    "\n",
    "plt.scatter(*emb.transpose(),marker='.')\n",
    "plt.show()"
   ]
  },
  {
   "cell_type": "code",
   "execution_count": null,
   "metadata": {},
   "outputs": [],
   "source": [
    "np.savetxt('colvar.txt',emb)"
   ]
  }
 ],
 "metadata": {
  "kernelspec": {
   "display_name": "Python 3",
   "language": "python",
   "name": "python3"
  },
  "language_info": {
   "codemirror_mode": {
    "name": "ipython",
    "version": 3
   },
   "file_extension": ".py",
   "mimetype": "text/x-python",
   "name": "python",
   "nbconvert_exporter": "python",
   "pygments_lexer": "ipython3",
   "version": "3.6.8"
  }
 },
 "nbformat": 4,
 "nbformat_minor": 2
}
