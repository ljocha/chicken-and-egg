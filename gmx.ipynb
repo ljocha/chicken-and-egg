{
 "cells": [
  {
   "cell_type": "markdown",
   "metadata": {},
   "source": [
    "# Gromacs \n",
    "\n",
    "Try running Gromacs"
   ]
  },
  {
   "cell_type": "code",
   "execution_count": 1,
   "metadata": {
    "scrolled": true
   },
   "outputs": [
    {
     "name": "stdout",
     "output_type": "stream",
     "text": [
      "                         :-) GROMACS - gmx, 2018.6 (-:\r\n",
      "\r\n",
      "                            GROMACS is written by:\r\n",
      "     Emile Apol      Rossen Apostolov      Paul Bauer     Herman J.C. Berendsen\r\n",
      "    Par Bjelkmar    Aldert van Buuren   Rudi van Drunen     Anton Feenstra  \r\n",
      "  Gerrit Groenhof    Aleksei Iupinov   Christoph Junghans   Anca Hamuraru   \r\n",
      " Vincent Hindriksen Dimitrios Karkoulis    Peter Kasson        Jiri Kraus    \r\n",
      "  Carsten Kutzner      Per Larsson      Justin A. Lemkul    Viveca Lindahl  \r\n",
      "  Magnus Lundborg   Pieter Meulenhoff    Erik Marklund      Teemu Murtola   \r\n",
      "    Szilard Pall       Sander Pronk      Roland Schulz     Alexey Shvetsov  \r\n",
      "   Michael Shirts     Alfons Sijbers     Peter Tieleman    Teemu Virolainen \r\n",
      " Christian Wennberg    Maarten Wolf   \r\n",
      "                           and the project leaders:\r\n",
      "        Mark Abraham, Berk Hess, Erik Lindahl, and David van der Spoel\r\n",
      "\r\n",
      "Copyright (c) 1991-2000, University of Groningen, The Netherlands.\r\n",
      "Copyright (c) 2001-2017, The GROMACS development team at\r\n",
      "Uppsala University, Stockholm University and\r\n",
      "the Royal Institute of Technology, Sweden.\r\n",
      "check out http://www.gromacs.org for more information.\r\n",
      "\r\n",
      "GROMACS is free software; you can redistribute it and/or modify it\r\n",
      "under the terms of the GNU Lesser General Public License\r\n",
      "as published by the Free Software Foundation; either version 2.1\r\n",
      "of the License, or (at your option) any later version.\r\n",
      "\r\n",
      "GROMACS:      gmx, version 2018.6\r\n",
      "Executable:   /gromacs/bin.AVX2_256/gmx\r\n",
      "Data prefix:  /gromacs\r\n",
      "Working dir:  /home/ljocha\r\n",
      "Command line:\r\n",
      "  gmx\r\n",
      "\r\n",
      "SYNOPSIS\r\n",
      "\r\n",
      "gmx [-[no]h] [-[no]quiet] [-[no]version] [-[no]copyright] [-nice <int>]\r\n",
      "    [-[no]backup]\r\n",
      "\r\n",
      "OPTIONS\r\n",
      "\r\n",
      "Other options:\r\n",
      "\r\n",
      " -[no]h                     (no)\r\n",
      "           Print help and quit\r\n",
      " -[no]quiet                 (no)\r\n",
      "           Do not print common startup info or quotes\r\n",
      " -[no]version               (no)\r\n",
      "           Print extended version information and quit\r\n",
      " -[no]copyright             (yes)\r\n",
      "           Print copyright information on startup\r\n",
      " -nice   <int>              (19)\r\n",
      "           Set the nicelevel (default depends on command)\r\n",
      " -[no]backup                (yes)\r\n",
      "           Write backups if output files exist\r\n",
      "\r\n",
      "Additional help is available on the following topics:\r\n",
      "    commands    List of available commands\r\n",
      "    selections  Selection syntax and usage\r\n",
      "To access the help, use 'gmx help <topic>'.\r\n",
      "For help on a command, use 'gmx help <command>'.\r\n",
      "\r\n",
      "GROMACS reminds you: \"Louis Pasteur's theory of germs is ridiculous fiction.\" (Pierre Pachet, Professor of Physiology at Toulouse, 1872)\r\n",
      "\r\n"
     ]
    }
   ],
   "source": [
    "!gmx"
   ]
  }
 ],
 "metadata": {
  "kernelspec": {
   "display_name": "Python 2",
   "language": "python",
   "name": "python2"
  },
  "language_info": {
   "codemirror_mode": {
    "name": "ipython",
    "version": 2
   },
   "file_extension": ".py",
   "mimetype": "text/x-python",
   "name": "python",
   "nbconvert_exporter": "python",
   "pygments_lexer": "ipython2",
   "version": "2.7.15rc1"
  }
 },
 "nbformat": 4,
 "nbformat_minor": 2
}

