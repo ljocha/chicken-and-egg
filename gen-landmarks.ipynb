{
 "cells": [
  {
   "cell_type": "markdown",
   "metadata": {},
   "source": [
    "# Chicken and egg in molecular metadynamics\n",
    "\n",
    "[Contents](intdex.ipynb)\n",
    "\n",
    "Next: [Compute isomap projection of the landmarks](isomap.ipynb)\n",
    "\n",
    "## 1 Generate landmarks by random twisting PDB structure\n",
    "\n",
    "### 1.1 Load structure from PDB\n",
    "\n",
    "Load a PDB file, store it locally and look at its content"
   ]
  },
  {
   "cell_type": "code",
   "execution_count": 2,
   "metadata": {},
   "outputs": [],
   "source": [
    "# a bit of housekeeping\n",
    "import os\n",
    "\n",
    "try:\n",
    "    workdir\n",
    "    raise Exception(\"This cell should be run only once (workdir = %s)\" % workdir)\n",
    "except NameError:\n",
    "    pass\n",
    "   \n",
    "basedir=os.getcwd()\n",
    "workdir=basedir + '/work'\n",
    "if not os.path.exists(workdir):\n",
    "    os.mkdir(workdir)\n"
   ]
  },
  {
   "cell_type": "code",
   "execution_count": 3,
   "metadata": {},
   "outputs": [],
   "source": [
    "from pypdb import get_pdb_file\n",
    "\n",
    "id=\"1L2Y\"\n",
    "pdb=get_pdb_file(id)\n",
    "\n",
    "f=open(id + \".pdb\",\"w\")\n",
    "f.write(pdb)\n",
    "f.close()"
   ]
  },
  {
   "cell_type": "code",
   "execution_count": 16,
   "metadata": {},
   "outputs": [
    {
     "data": {
      "application/vnd.jupyter.widget-view+json": {
       "model_id": "2ef76ffd415549c8aeda9c59f2ca8eeb",
       "version_major": 2,
       "version_minor": 0
      },
      "text/plain": [
       "NGLWidget()"
      ]
     },
     "metadata": {},
     "output_type": "display_data"
    }
   ],
   "source": [
    "import nglview as nv\n",
    "\n",
    "v = nv.NGLWidget()\n",
    "v.add_component(basedir + \"/\" + id + \".pdb\")\n",
    "v.clear()\n",
    "v.add_representation('cartoon', selection='all', color='green')\n",
    "v"
   ]
  },
  {
   "cell_type": "markdown",
   "metadata": {},
   "source": [
    "### 1.2 Generate randomly twisted conformations\n",
    "\n",
    "$\\phi$ and $\\psi$ backbone dihedral angles of all but first and last residue of the loaded structure are twisted randomly.\n",
    "\n",
    "Systematic approach (e.g. 30 degree sampling of all angles) would yield too many conformations.\n",
    "Instead we use random latin hypercube sampling to get uniform coverage of all values of all angles.\n",
    "\n",
    "Empirically, running 10 times no. of residues (`niter` parameter bellow) seems to be sufficient to cover the whole conformational space while keeping number of landmarks still reasonable.\n",
    "\n",
    "`work/` subdir is created and the files are stored there. \n",
    "\n",
    "Expect approx. 1 min running time for every 1000 generated structures. It is worth to inspect some of the outputs visually (the following cell)."
   ]
  },
  {
   "cell_type": "code",
   "execution_count": 4,
   "metadata": {},
   "outputs": [],
   "source": [
    "# number of steps to twist a dihedral\n",
    "nsteps = 12\n",
    "\n",
    "# number of iterations; alltogether niter * nsteps random conformers are generated\n",
    "niter = 200"
   ]
  },
  {
   "cell_type": "code",
   "execution_count": 4,
   "metadata": {},
   "outputs": [],
   "source": [
    "import math\n",
    "import pybel\n",
    "from pyDOE import lhs\n",
    "from pypdb import describe_pdb\n",
    "import matplotlib.pyplot as plt\n",
    "import os\n",
    "import numpy as np\n",
    "\n",
    "pdb = id + \".pdb\"\n",
    "nres = int(describe_pdb(id)['nr_residues'])\n",
    "\n",
    "os.chdir(basedir)    \n",
    "out='work/conf%d.pdb'\n",
    "\n",
    "conf = 1\n",
    "\n",
    "mols = list(pybel.readfile('pdb',pdb))\n",
    "mol=mols[0]\n",
    "\n",
    "# if I knew SMARTS better, oxygens would not have been counted\n",
    "pattern = '[NH3]-[CH]-C(=O)'\n",
    "for _ in range(nres-1):\n",
    "    pattern += '-N-C-C(=O)'\n",
    "    \n",
    "sp = pybel.Smarts(pattern)\n",
    "\n",
    "match = sp.findall(mol)\n",
    "\n",
    "if len(match) != 1:\n",
    "    print(\"backbone pattern not matched\")\n",
    "    raise\n",
    "    \n",
    "match = match[0]\n",
    "    \n",
    "def set_phi(mol,match,r,phi):\n",
    "    a1 = mol.atoms[4*(r-1)-2].OBAtom\n",
    "    a2 = mol.atoms[4*(r-1)].OBAtom\n",
    "    a3 = mol.atoms[4*(r-1)+1].OBAtom\n",
    "    a4 = mol.atoms[4*(r-1)+2].OBAtom\n",
    "    mol.OBMol.SetTorsion(a1,a2,a3,a4,phi/180*math.pi)\n",
    "    \n",
    "def set_psi(mol,match,r,phi):\n",
    "    a1 = mol.atoms[4*(r-1)].OBAtom\n",
    "    a2 = mol.atoms[4*(r-1)+1].OBAtom\n",
    "    a3 = mol.atoms[4*(r-1)+2].OBAtom\n",
    "    a4 = mol.atoms[4*(r-1)+4].OBAtom\n",
    "    mol.OBMol.SetTorsion(a1,a2,a3,a4,phi/180*math.pi)\n",
    "\n",
    "# make it really reproducible\n",
    "np.random.seed(123456789)\n",
    "    \n",
    "for _ in range(niter):\n",
    "    phi = lhs(nres - 2, nsteps)\n",
    "    psi = lhs(nres - 2, nsteps)\n",
    "\n",
    "    for s in range(nsteps):\n",
    "        for r in range(2,nres):\n",
    "            set_phi(mol,match,r,phi[s][r-2] * 360)\n",
    "            set_psi(mol,match,r,psi[s][r-2] * 360)\n",
    "            \n",
    "        fn = out % conf\n",
    "        mol.write('pdb',fn,overwrite=True)\n",
    "        conf += 1\n",
    "\n"
   ]
  },
  {
   "cell_type": "code",
   "execution_count": 17,
   "metadata": {},
   "outputs": [
    {
     "data": {
      "application/vnd.jupyter.widget-view+json": {
       "model_id": "dcf0edcf85744075a90e68e51c187533",
       "version_major": 2,
       "version_minor": 0
      },
      "text/plain": [
       "NGLWidget()"
      ]
     },
     "metadata": {},
     "output_type": "display_data"
    }
   ],
   "source": [
    "import nglview as nv\n",
    "\n",
    "v = nv.NGLWidget()\n",
    "v.add_component(workdir + \"/conf100.pdb\")\n",
    "v.clear()\n",
    "v.add_representation('cartoon', selection='all', color='green')\n",
    "v"
   ]
  },
  {
   "cell_type": "markdown",
   "metadata": {},
   "source": [
    "### 1.3 Minimize the generated structures\n",
    "\n",
    "Run Gromacs steepest descend energy minimization in vacuo on all the generated structures. This is sufficient to fix colliding sidechains etc. while not changing the backbone dihedrals, hence preserving the conformational space coverage.\n",
    "\n",
    "Expect approx. 25 structures per minute per core in case of small protein like trpcage (1L2Y)."
   ]
  },
  {
   "cell_type": "code",
   "execution_count": null,
   "metadata": {},
   "outputs": [
    {
     "name": "stdout",
     "output_type": "stream",
     "text": [
      "Starting 4 parallel processes\r\n",
      "../minim.sh: line 44: 3: Bad file descriptor\r\n"
     ]
    }
   ],
   "source": [
    "# number of cores to use (all if empty)\n",
    "\n",
    "ncores=''\n",
    "\n",
    "# the most likely minimization parameters to change; rest is in the template file\n",
    "minim_mdp = '''\n",
    "emtol       = 100.0        ; Stop minimization when the maximum force < 100.0 kJ/mol/nm\n",
    "emstep      = 0.01          ; Minimization step size\n",
    "nsteps      = 50000         ; Maximum number of (minimization) steps to perform\n",
    "'''\n",
    "\n",
    "os.chdir(workdir)\n",
    "\n",
    "!cp ../minim.mdp.template minim.mdp\n",
    "f=open('minim.mdp','a')\n",
    "f.write(minim_mdp)\n",
    "f.close()\n",
    "\n",
    "!bash ../minim.sh {ncores}\n"
   ]
  },
  {
   "cell_type": "markdown",
   "metadata": {},
   "source": [
    "### 1.4 Inspect the results\n",
    "\n",
    "Minimized structures are merged into virtual trajectory and displayed as animation.\n",
    "\n",
    "Histogram of their radius of gyration (following cell) gives some evidence on conformational space coverage."
   ]
  },
  {
   "cell_type": "code",
   "execution_count": 5,
   "metadata": {},
   "outputs": [
    {
     "data": {
      "application/vnd.jupyter.widget-view+json": {
       "model_id": "586fd840aef241b6bd83cb5edbc582bc",
       "version_major": 2,
       "version_minor": 0
      },
      "text/plain": [
       "NGLWidget(count=2400)"
      ]
     },
     "metadata": {},
     "output_type": "display_data"
    }
   ],
   "source": [
    "import mdtraj as md\n",
    "import nglview as nv\n",
    "import os\n",
    "    \n",
    "os.chdir(workdir)\n",
    "\n",
    "tr = md.load([ \"conf%d-min.gro\" % i for i in range(1,nsteps*niter+1)])\n",
    "idx=tr[0].top.select(\"name CA\")\n",
    "tr.superpose(tr[0],atom_indices=idx)\n",
    "\n",
    "v=nv.show_mdtraj(tr)\n",
    "v.clear()\n",
    "v.add_representation(\"licorice\")\n",
    "v"
   ]
  },
  {
   "cell_type": "code",
   "execution_count": 7,
   "metadata": {},
   "outputs": [
    {
     "data": {
      "image/png": "[encoded data removed]",
      "text/plain": [
       "<Figure size 432x288 with 1 Axes>"
      ]
     },
     "metadata": {
      "needs_background": "light"
     },
     "output_type": "display_data"
    }
   ],
   "source": [
    "import matplotlib.pyplot as plt\n",
    "rgs=md.compute_rg(tr)\n",
    "plt.hist(rgs,30)\n",
    "plt.show()"
   ]
  },
  {
   "cell_type": "markdown",
   "metadata": {},
   "source": [
    "### Next step\n",
    "\n",
    "Continue with [Isomap projection of the landmarks](isomap.ipynb)"
   ]
  }
 ],
 "metadata": {
  "kernelspec": {
   "display_name": "Python 3",
   "language": "python",
   "name": "python3"
  },
  "language_info": {
   "codemirror_mode": {
    "name": "ipython",
    "version": 3
   },
   "file_extension": ".py",
   "mimetype": "text/x-python",
   "name": "python",
   "nbconvert_exporter": "python",
   "pygments_lexer": "ipython3",
   "version": "3.6.7"
  }
 },
 "nbformat": 4,
 "nbformat_minor": 2
}
