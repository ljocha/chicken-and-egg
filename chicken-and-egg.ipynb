{
 "cells": [
  {
   "cell_type": "markdown",
   "metadata": {},
   "source": [
    "# Chicken and egg in molecular metadynamics\n",
    "\n",
    "### Create protein folding landmarks from scratch\n",
    "\n",
    "\n",
    "The whole workflow is implemented as a single notebook to allow batch run. It is structured to these major steps:\n",
    "\n",
    "1. generate random landmarks by twisting the input structrure backbone dihedrals and steep-descend minimization of the result to avoid side chain clash etc.\n",
    "1. compute low-dimensional embedding (isomap) of the landmarks to create collective variables\n",
    "1. train a neural networks to estimate the colvars from the structure, implement the resulting network as plumed input\n",
    "1. run both vanilla molecular dynamics and the metadynamics to compare the trajectories\n"
   ]
  },
  {
   "cell_type": "code",
   "execution_count": null,
   "metadata": {},
   "outputs": [],
   "source": [
    "# we need all this fancy shit\n",
    "import anncolvar\n",
    "\n",
    "import os\n",
    "import shutil\n",
    "from contextlib import redirect_stdout\n",
    "import re\n",
    "\n",
    "import concurrent.futures\n",
    "\n",
    "import numpy as np\n",
    "import math\n",
    "from scipy.sparse import coo_matrix\n",
    "\n",
    "from pyDOE import lhs\n",
    "from sklearn.utils.graph_shortest_path import graph_shortest_path\n",
    "from sklearn.manifold import MDS\n",
    "\n",
    "import PeptideBuilder as pb\n",
    "import Bio.PDB as pdb\n",
    "import Bio.SeqUtils as sequtil\n",
    "\n",
    "import mdtraj as md\n",
    "\n",
    "import matplotlib.pyplot as plt\n",
    "import nglview as nv\n",
    "\n",
    "from xvg import read_xvg"
   ]
  },
  {
   "cell_type": "code",
   "execution_count": null,
   "metadata": {},
   "outputs": [],
   "source": [
    "# set the defaults \n",
    "# for batch processing, those can be set in config.py so that the notebook itself needn't be modified\n",
    "\n",
    "# input PDB name (to be downloaded) or a provided file\n",
    "#pdbid = '1L2Y'\n",
    "\n",
    "pdbfile = \"1L2Y.pdb\"\n",
    "\n",
    "# number of steps to twist a dihedral when generating landmarks\n",
    "nsteps = 12\n",
    "\n",
    "# number of iterations of landmark generation; alltogether niter * nsteps random conformers are generated\n",
    "niter = 200\n",
    "\n",
    "# number of steps of the production MD run\n",
    "# md.mdp template sets 2 fs step\n",
    "mdsteps = 2500000  # 5 ns, this is too short, for testing only!\n",
    "\n",
    "# bounding box size to add for mininimization and \n",
    "minbox = 1.5\n",
    "mdbox = 1.5\n",
    "\n",
    "\n",
    "# count available cores -- check the output and set ncores to something else if necessary\n",
    "\n",
    "# TODO: capture PBS settings when running in batch\n",
    "\n",
    "if os.environ.get('OMP_NUM_THREADS') is None:\n",
    "    ncores = int(os.popen('./ncores.sh').read())\n",
    "    print('OMP_NUM_THREADS not set, using all (%d) available cores' % ncores)\n",
    "else:\n",
    "    ncores = int(os.environ.get('OMP_NUM_THREADS'))\n",
    "    print('Using OMP_NUM_THREADS = %d cores' % ncores)\n",
    "\n",
    "# XXX: poor man approach, expected to be tuned in config.py\n",
    "ntomp = 4\n",
    "ntmpi = ncores // ntomp\n",
    "\n",
    "try:\n",
    "    exec(open('config.py').read())\n",
    "    !cat config.py\n",
    "except FileNotFoundError:\n",
    "    print('config.py not found, hope it\\'s OK')"
   ]
  },
  {
   "cell_type": "markdown",
   "metadata": {},
   "source": [
    "## 1 Generate landmarks by random twisting PDB structure\n",
    "\n",
    "### 1.1 Load structure from PDB\n",
    "\n",
    "Load a PDB file, store it locally, create a matching workdir, and look at the PDB content"
   ]
  },
  {
   "cell_type": "code",
   "execution_count": null,
   "metadata": {},
   "outputs": [],
   "source": [
    "try:\n",
    "    workdir\n",
    "    raise Exception(\"This cell should be run only once (workdir = %s)\" % workdir)\n",
    "except NameError:\n",
    "    pass\n",
    "\n",
    "basedir=os.getcwd()\n",
    "\n",
    "\n",
    "# load the PDB file, create workdir, set global variables to be used later\n",
    "do_load = False\n",
    "try:\n",
    "    pdbid\n",
    "    do_load = True\n",
    "    pdbfile = pdbid + '.pdb'\n",
    "\n",
    "except NameError:\n",
    "    pdbid = os.path.splitext(os.path.basename(pdbfile))[0]\n",
    "    \n",
    "workdir=os.path.join(basedir,pdbid)\n",
    "\n",
    "if not os.path.exists(workdir):\n",
    "    os.mkdir(workdir)\n",
    "\n",
    "os.chdir(workdir)\n",
    "\n",
    "if do_load:\n",
    "    pdbl = pdb.PDBList()\n",
    "    pdbl.retrieve_pdb_file(pdbid)\n",
    "    shutil.move(pdbid + \".ent\", pdbid + \".pdb\")\n",
    "else:\n",
    "    shutil.copy(os.path.join(basedir,pdbfile),os.path.join(workdir,pdbfile))"
   ]
  },
  {
   "cell_type": "code",
   "execution_count": null,
   "metadata": {},
   "outputs": [],
   "source": [
    "# preprocess the file with gromacs to get consistent atom naming and numbering\n",
    "!gmx pdb2gmx -f {pdbfile} -o {pdbid}-new.pdb -water tip3p -ff amber94 -ignh && \\\n",
    "mv {pdbid}-new.pdb {pdbfile}"
   ]
  },
  {
   "cell_type": "code",
   "execution_count": null,
   "metadata": {},
   "outputs": [],
   "source": [
    "# inspect the loaded file\n",
    "# it must be a sane structure, no missing heavy atoms and/or hydrogens etc., \n",
    "# suitable as the starting point of usual MD protocol\n",
    "os.chdir(basedir)\n",
    "v = nv.NGLWidget()\n",
    "v.add_component(os.path.join(workdir,pdbfile))\n",
    "v.clear()\n",
    "v.add_representation('cartoon', selection='all')\n",
    "\n",
    "os.chdir(workdir)\n",
    "v"
   ]
  },
  {
   "cell_type": "markdown",
   "metadata": {},
   "source": [
    "### 1.2 Generate randomly twisted conformations\n",
    "\n",
    "$\\phi$ and $\\psi$ backbone dihedral angles of all but first and last residue of the loaded structure are twisted randomly.\n",
    "\n",
    "Systematic approach (e.g. 30 degree sampling of all angles) would yield too many conformations.\n",
    "Instead we use random latin hypercube sampling to get uniform coverage of all values of all angles.\n",
    "\n",
    "Empirically, running 10 times no. of residues (`niter` parameter bellow) seems to be sufficient to cover the whole conformational space while keeping number of landmarks still reasonable.\n",
    "\n",
    "Expect approx. 1 s per 300 residues. It is worth to inspect some of the outputs visually (the following cell)."
   ]
  },
  {
   "cell_type": "code",
   "execution_count": null,
   "metadata": {},
   "outputs": [],
   "source": [
    "p = pdb.PDBParser()\n",
    "instruct = p.get_structure('in',pdbfile)\n",
    "\n",
    "# XXX: assuming one model and one chain, the method would be rather weird for more\n",
    "\n",
    "resl = list(map(lambda r: sequtil.seq1(r.get_resname()),instruct.get_residues()))\n",
    "nres = len(resl)\n",
    "\n",
    "out='conf%d.pdb'\n",
    "\n",
    "# make it really reproducible\n",
    "np.random.seed(123456789)\n",
    "    \n",
    "def random_twist(iter):    \n",
    "    phi = lhs(nres - 2, nsteps)\n",
    "    psi = lhs(nres - 2, nsteps)\n",
    "    outf = pdb.PDBIO()\n",
    "\n",
    "    for s in range(nsteps):\n",
    "        first = pb.Geometry.geometry(resl[0])\n",
    "        struct = pb.initialize_res(first)\n",
    "        \n",
    "        for r in range(1,nres-1):\n",
    "            if resl[r] == 'P':\n",
    "                pb.add_residue(struct,resl[r])\n",
    "            else:\n",
    "                pb.add_residue(struct,resl[r],phi[s][r-1]*360,psi[2][r-1]*360)\n",
    "                \n",
    "        pb.add_residue(struct,resl[nres-1])\n",
    "            \n",
    "        fn = out % (iter * nsteps + s + 1)\n",
    "        outf.set_structure(struct)\n",
    "        outf.save(fn)\n",
    "        \n",
    "# XXX: better with hyperthreading but we don't want to eat up 2x cores when running in batch mode\n",
    "with concurrent.futures.ProcessPoolExecutor(max_workers=ncores) as executor:\n",
    "    for _ in executor.map(random_twist,range(niter)):\n",
    "        pass\n",
    "\n",
    "\n",
    "\n"
   ]
  },
  {
   "cell_type": "code",
   "execution_count": null,
   "metadata": {},
   "outputs": [],
   "source": [
    "tr = md.load([ \"conf%d.pdb\" % i for i in range(1,nsteps*niter+1)])\n",
    "idx=tr[0].top.select(\"name CA\")\n",
    "tr.superpose(tr[0],atom_indices=idx)\n",
    "\n",
    "v=nv.show_mdtraj(tr)\n",
    "v.clear()\n",
    "v.add_representation(\"licorice\")\n",
    "v"
   ]
  },
  {
   "cell_type": "markdown",
   "metadata": {},
   "source": [
    "### 1.3 Minimize the generated structures\n",
    "\n",
    "Run Gromacs steepest descend energy minimization in vacuo on all the generated structures. This is sufficient to fix colliding sidechains etc. while not changing the backbone dihedrals, hence preserving the conformational space coverage.\n",
    "\n",
    "Expect approx. 25 structures per minute per core in case of small protein like trpcage (1L2Y)."
   ]
  },
  {
   "cell_type": "code",
   "execution_count": null,
   "metadata": {},
   "outputs": [],
   "source": [
    "# the most likely minimization parameters to change; rest is in the template file\n",
    "minim_mdp = '''\n",
    "emtol       = 500.0        ; Stop minimization when the maximum force is lower (kJ/mol/nm)\n",
    "emstep      = 0.05          ; Minimization step size\n",
    "nsteps      = 5000         ; Maximum number of (minimization) steps to perform\n",
    "'''\n",
    "\n",
    "template = os.path.join(basedir,'minim.mdp.template')\n",
    "\n",
    "!cp {template} minim.mdp\n",
    "f=open('minim.mdp','a')\n",
    "f.write(minim_mdp)\n",
    "f.close()\n",
    "\n",
    "minim = os.path.join(basedir,'minim.sh')\n",
    "!bash {minim} {ncores} {minbox}"
   ]
  },
  {
   "cell_type": "code",
   "execution_count": null,
   "metadata": {},
   "outputs": [],
   "source": [
    "# filter the results to the reasonable ones only\n",
    "\n",
    "conflist = []\n",
    "energies = []\n",
    "maxenergy = 1e8\n",
    "\n",
    "for i in range(1,nsteps*niter+1):\n",
    "    try:\n",
    "        with open('conf%d.minen' % i) as ef:\n",
    "            l = ef.readline()\n",
    "            _,energy = l.split()\n",
    "            energy = float(energy)\n",
    "    except FileNotFoundError:\n",
    "        print(i, \"not found, something went wrong\")\n",
    "        continue\n",
    "        \n",
    "    if energy < maxenergy:\n",
    "        conflist.append(i)\n",
    "        energies.append(energy)\n",
    "    else:\n",
    "        print(i,\"energy too high:\", energy, 'ignoring')\n",
    "        \n",
    "print('remaining conformers', len(conflist))"
   ]
  },
  {
   "cell_type": "markdown",
   "metadata": {},
   "source": [
    "### 1.4 Inspect the results\n",
    "\n",
    "Minimized structures are merged into virtual trajectory and displayed as animation.\n",
    "\n",
    "Histograms of their radius of gyration and energies (following cells) gives some evidence on conformational space coverage."
   ]
  },
  {
   "cell_type": "code",
   "execution_count": null,
   "metadata": {},
   "outputs": [],
   "source": [
    "# we may get varying protonation with weird generated conformers, hence drop hydrogens here to avoid confusion\n",
    "frames = []\n",
    "for i in conflist:\n",
    "    fn = \"conf%d-min.gro\" % i\n",
    "    if os.path.isfile(fn):\n",
    "        one = md.load(fn)\n",
    "        heavy_idx = one[0].top.select(\"element != H\")\n",
    "        one.atom_slice(heavy_idx,inplace=True)\n",
    "        frames.append(one)\n",
    "        \n",
    "tr=md.join(frames)\n",
    "\n",
    "tr[0].center_coordinates()\n",
    "idx=tr[0].top.select(\"name CA\")\n",
    "tr.superpose(tr[0],atom_indices=idx)\n",
    "\n",
    "v=nv.show_mdtraj(tr,gui=True)\n",
    "v.clear()\n",
    "v.add_representation(\"licorice\")\n",
    "v"
   ]
  },
  {
   "cell_type": "code",
   "execution_count": null,
   "metadata": {},
   "outputs": [],
   "source": [
    "rgs=md.compute_rg(tr)\n",
    "\n",
    "plt.figure(figsize=(15,5))\n",
    "plt.hist(rgs,30)\n",
    "plt.show()"
   ]
  },
  {
   "cell_type": "code",
   "execution_count": null,
   "metadata": {},
   "outputs": [],
   "source": [
    "plt.figure(figsize=(15,5))\n",
    "plt.hist(energies,30)\n",
    "plt.show()"
   ]
  },
  {
   "cell_type": "code",
   "execution_count": null,
   "metadata": {},
   "outputs": [],
   "source": [
    "# save superposed landmarks as Gromacs trajectory\n",
    "tr.save_pdb('landmarks.pdb')\n",
    "tr.save_xtc('landmarks.xtc')\n",
    "tr[0].save_pdb('landmark1.pdb')"
   ]
  },
  {
   "cell_type": "markdown",
   "metadata": {},
   "source": [
    "## 2. Compute isomap projection of the landmarks"
   ]
  },
  {
   "cell_type": "code",
   "execution_count": null,
   "metadata": {},
   "outputs": [],
   "source": [
    "# number of nearest neighbours to consider (aka _k_)\n",
    "neighs = 5\n",
    "# targed no. of dimensions \n",
    "dims = 2\n",
    "\n",
    "try:\n",
    "    tr\n",
    "except NameError:\n",
    "    tr = md.load('landmarks.pdb')"
   ]
  },
  {
   "cell_type": "code",
   "execution_count": null,
   "metadata": {},
   "outputs": [],
   "source": [
    "# nconf = niter * nsteps\n",
    "nconf = len(tr)\n",
    "\n",
    "# compute all-to-all RMSD and select _k_ closest neighbours\n",
    "row=[]\n",
    "col=[]\n",
    "dat=[]\n",
    "\n",
    "for i in range(nconf):\n",
    "    d = md.rmsd(tr,tr,frame=i)\n",
    "    d[range(i+1)] = np.inf\n",
    "    for _ in range(neighs):\n",
    "        j = np.argmin(d)\n",
    "        if d[j] < np.inf:\n",
    "            row.append(i)\n",
    "            col.append(j)\n",
    "            dat.append(d[j])\n",
    "            row.append(j)\n",
    "            col.append(i)\n",
    "            dat.append(d[j])\n",
    "            d[j] = np.inf\n",
    "\n",
    "# store results in sparse matrix\n",
    "dist = coo_matrix((dat,(row,col)),shape=(nconf,nconf)) \n",
    "\n",
    "# check sanity\n",
    "print(\"conformations (original dimensions): \", nconf)\n",
    "print(\"non-zero distances: \", dist.getnnz())"
   ]
  },
  {
   "cell_type": "code",
   "execution_count": null,
   "metadata": {},
   "outputs": [],
   "source": [
    "# isomap itself: compute shortest paths in the k-neighbours graph, \n",
    "# and multi-dimensional scaling on the resulting all-to-all distances\n",
    "sp = graph_shortest_path(dist,directed=False)\n",
    "mds = MDS(n_components=dims,dissimilarity='precomputed',n_jobs=ncores)\n",
    "emb = mds.fit_transform(sp)"
   ]
  },
  {
   "cell_type": "code",
   "execution_count": null,
   "metadata": {},
   "outputs": [],
   "source": [
    "plt.figure(figsize=(12,8))\n",
    "plt.scatter(*emb.transpose(),marker='.')\n",
    "plt.show()"
   ]
  },
  {
   "cell_type": "code",
   "execution_count": null,
   "metadata": {},
   "outputs": [],
   "source": [
    "# XXX: assumes negative min and positive max\n",
    "embmin=np.min(emb,axis=0)*1.2\n",
    "embmax=np.max(emb,axis=0)*1.2"
   ]
  },
  {
   "cell_type": "code",
   "execution_count": null,
   "metadata": {},
   "outputs": [],
   "source": [
    "# save collective variables\n",
    "np.savetxt('colvar.txt',emb)"
   ]
  },
  {
   "cell_type": "markdown",
   "metadata": {},
   "source": [
    "## 3 Train the neural net\n",
    "\n",
    "Create artificial neural network and train it to produce the above isomap embedding from superposed heavy atom coordinates. The ANN is encoded in `plumed.dat` to be used by metadynamic run later.\n",
    "\n",
    "Technically, this is done for both coordinates of the embedding independently, the resulting `plumed.dat` files are merged.\n",
    "\n",
    "Uses [Anncolvar](https://github.com/spiwokv/anncolvar)."
   ]
  },
  {
   "cell_type": "code",
   "execution_count": null,
   "metadata": {},
   "outputs": [],
   "source": [
    "# run anncolvar twice, for each isomap coordinate independently\n",
    "epochs = 500\n",
    "\n",
    "# anncolvar defaults\n",
    "nlayers = 1\n",
    "layers = [32, 0, 0]\n",
    "actfun = ['sigmoid','linear','linear']\n",
    "optim = 'adam'\n",
    "loss = 'mean_squared_error'\n",
    "batch = 256\n",
    "\n",
    "\n",
    "rg = md.compute_rg(first)\n",
    "\n",
    "# XXX magic -- seems to be safe\n",
    "shift = rg[0] * 5\n",
    "box = shift * 2\n",
    "\n",
    "!gmx editconf -f landmark1.pdb -o landmark1-box.pdb -translate {shift} {shift} {shift} -box {box} {box} {box} -c >editconf.log 2>&1\n",
    "\n",
    "with open('landmark1-box.pdb') as boxf, open('reference.pdb','w') as ref:\n",
    "    lines = boxf.readlines()\n",
    "    for l in lines:\n",
    "        if l[:4] == 'ATOM':\n",
    "            newi = heavy_idx[int(l[4:11])-1]+1\n",
    "            ref.write('ATOM%7d' % newi)\n",
    "            ref.write(l[11:])\n",
    "        else:\n",
    "            ref.write(l)\n",
    "\n",
    "# XXX: too much stdout \n",
    "for col in [1,2]:\n",
    "    with open(\"anncolvar-%d.log\" % col,\"w\") as log, redirect_stdout(log):\n",
    "        anncolvar.anncollectivevariable('landmarks.xtc','reference.pdb','colvar.txt',col,\n",
    "                                    box,box,box,.1,0,0,\n",
    "                                    nlayers,*layers,\n",
    "                                    *actfun,\n",
    "                                    optim,loss,epochs,batch,\n",
    "                                    '','','plumed%d.dat' % col)\n",
    "            \n",
    "!tail editconf.log anncolvar-[12].log"
   ]
  },
  {
   "cell_type": "code",
   "execution_count": null,
   "metadata": {},
   "outputs": [],
   "source": [
    "# merge plumed[12].dat from the previous cell\n",
    "\n",
    "# XXX entirely\n",
    "with open('plumed.dat','w') as fout:\n",
    "    for col in [1,2]:\n",
    "        with open('plumed%d.dat' % col) as fin:\n",
    "            for line in fin:\n",
    "                '''not necessary, reference.pdb is already renumbered\n",
    "                w = line.split()\n",
    "                if w[1] == 'POSITION':\n",
    "                    a = w[2].split('=')\n",
    "                    line = w[0] + (' POSITION ATOM=%d ' % (heavy_idx[int(a[1])-1]+1)) + ' '.join(w[3:]) + '\\n'\n",
    "                '''\n",
    "                if re.match('[pl][0-9_rxyz]',line):\n",
    "                    line = re.sub('[pl][0-9_rxyz]','cv%d_\\g<0>' % col,line)\n",
    "                    fout.write(line)\n",
    "                elif col == 1 and not re.match('PRINT',line):\n",
    "                    fout.write(line)\n",
    "  \n",
    "    # XXX: hardcoded\n",
    "    fout.write('PRINT ARG=cv1_l2r,cv2_l2r STRIDE=100 FILE=COLVAR\\n')\n",
    "    fout.write('METAD ARG=cv1_l2r,cv2_l2r SIGMA=0.1,0.1 HEIGHT=1.0 PACE=1000 BIASFACTOR=15 TEMP=300 LABEL=restraint')\n",
    "    fout.write(' GRID_MIN=%f,%f GRID_MAX=%f,%f GRID_BIN=150,150\\n' % (*embmin,*embmax))"
   ]
  },
  {
   "cell_type": "markdown",
   "metadata": {},
   "source": [
    "## 4. Run MD\n",
    "\n",
    "Run quite standard molecular dynamics protocol, adapted from [Lysosome tutorial](http://www.mdtutorials.com/gmx/lysozyme/index.html), i.e. solvate, add counterions, minimize, equilibrate, and run production.\n",
    "\n",
    "Preparation phases are common, then we run vanilla and metadynamic simulations to compare the results."
   ]
  },
  {
   "cell_type": "markdown",
   "metadata": {},
   "source": [
    "### 4.1 Prepare, minimize, and equilibrate"
   ]
  },
  {
   "cell_type": "code",
   "execution_count": null,
   "metadata": {},
   "outputs": [],
   "source": [
    "# elementary preparation\n",
    "\n",
    "# XXX hardcoded defaults for the time being, replace with template eventually\n",
    "\n",
    "os.chdir(basedir)\n",
    "!cp ions.mdp minim-sol.mdp {workdir}\n",
    "os.chdir(workdir)\n",
    "\n",
    "!gmx pdb2gmx -f {pdbfile} -o {pdbid}.gro -water tip3p -ff amber94 -ignh && \\\n",
    "gmx editconf -f {pdbid}.gro -o {pdbid}-box.gro -c -d {mdbox} -bt dodecahedron && \\\n",
    "gmx solvate -cp {pdbid}-box.gro -cs spc216.gro -o {pdbid}-solv.gro -p topol.top && \\\n",
    "gmx grompp -f ions.mdp -c {pdbid}-solv.gro -p topol.top -o ions.tpr && \\\n",
    "echo 13 | gmx genion -s ions.tpr -o {pdbid}-ions.gro -p topol.top -pname NA -nname CL -neutral"
   ]
  },
  {
   "cell_type": "code",
   "execution_count": null,
   "metadata": {},
   "outputs": [],
   "source": [
    "# minimize with steepest descend\n",
    "!gmx grompp -f minim-sol.mdp -c {pdbid}-ions.gro -p topol.top -o em.tpr &&\\\n",
    "gmx mdrun -v -deffnm em -ntmpi {ntmpi} -ntomp {ntomp} -pin on &&\\\n",
    "echo '10\\\n",
    "' | gmx energy -f em.edr -o em.xvg"
   ]
  },
  {
   "cell_type": "code",
   "execution_count": null,
   "metadata": {},
   "outputs": [],
   "source": [
    "x,y=read_xvg(os.path.join(workdir,'em.xvg'))\n",
    "\n",
    "plt.figure(figsize=(15,5))\n",
    "plt.plot(x,y)\n",
    "plt.grid()\n",
    "plt.xlabel('step')\n",
    "plt.ylabel('potential (kJ/mol)')\n",
    "plt.title('Energy minimization')\n",
    "\n",
    "plt.show()"
   ]
  },
  {
   "cell_type": "code",
   "execution_count": null,
   "metadata": {},
   "outputs": [],
   "source": [
    "# isothermal - isochoric equilibration\n",
    "!cp {basedir}/nvt.mdp .\n",
    "\n",
    "!gmx grompp -f nvt.mdp -c em.gro -r em.gro -p topol.top -o nvt.tpr && \\\n",
    "gmx mdrun -ntomp {ntomp} -ntmpi {ntmpi} -pin on -deffnm nvt && \\\n",
    "echo '16\\\n",
    "' | gmx energy -f nvt.edr -o temp.xvg"
   ]
  },
  {
   "cell_type": "code",
   "execution_count": null,
   "metadata": {},
   "outputs": [],
   "source": [
    "x,y=read_xvg(os.path.join(workdir,'temp.xvg'))\n",
    "\n",
    "plt.figure(figsize=(15,5))\n",
    "plt.plot(x,y)\n",
    "plt.grid()\n",
    "plt.xlabel('time (ps)')\n",
    "plt.ylabel('temperature (K)')\n",
    "plt.title('isothermal-isochoric equilibration')\n",
    "plt.show()"
   ]
  },
  {
   "cell_type": "code",
   "execution_count": null,
   "metadata": {},
   "outputs": [],
   "source": [
    "# isothermal - isobaric equilibration\n",
    "!cp {basedir}/npt.mdp .\n",
    "\n",
    "!gmx grompp -f npt.mdp -c nvt.gro -r nvt.gro -t nvt.cpt -p topol.top -o npt.tpr && \\\n",
    "gmx mdrun -ntomp {ntomp} -ntmpi {ntmpi} -pin on -deffnm npt && \\\n",
    "echo '18\\\n",
    "' | gmx energy -f npt.edr -o press.xvg && \\\n",
    "echo '24\\\n",
    "' | gmx energy -f npt.edr -o dens.xvg"
   ]
  },
  {
   "cell_type": "code",
   "execution_count": null,
   "metadata": {},
   "outputs": [],
   "source": [
    "xp,yp=read_xvg(os.path.join(workdir,'press.xvg'))\n",
    "xd,yd=read_xvg(os.path.join(workdir,'dens.xvg'))\n",
    "\n",
    "plt.figure(figsize=(15,8))\n",
    "plt.subplot(211)\n",
    "plt.plot(xp,yp)\n",
    "plt.title('isothermal-isobaric equilibration')\n",
    "plt.grid()\n",
    "#plt.xlabel('time (ps)')\n",
    "plt.ylabel(\"pressure (bar)\")\n",
    "\n",
    "\n",
    "plt.subplot(212)\n",
    "plt.xlabel('time (ps)')\n",
    "plt.ylabel('density (kg/m3)')\n",
    "plt.grid()\n",
    "plt.plot(xd,yd)\n",
    "plt.show()"
   ]
  },
  {
   "cell_type": "markdown",
   "metadata": {},
   "source": [
    "### 4.2 Run vanilla MD"
   ]
  },
  {
   "cell_type": "code",
   "execution_count": null,
   "metadata": {},
   "outputs": [],
   "source": [
    "!cp {basedir}/md.mdp.template md.mdp\n",
    "with open('md.mdp','a') as mdp:\n",
    "    mdp.write(\"nsteps = %d\\n\" % mdsteps)\n",
    "\n",
    "!gmx grompp -f md.mdp -c npt.gro -t npt.cpt -p topol.top -o md1.tpr && \\\n",
    "gmx mdrun -ntomp {ntomp} -ntmpi {ntmpi} -pin on -deffnm md1"
   ]
  },
  {
   "cell_type": "code",
   "execution_count": null,
   "metadata": {},
   "outputs": [],
   "source": [
    "!echo 1 | gmx trjconv -f md1.xtc -s npt.gro -pbc nojump -o pbc1.xtc\n",
    "\n",
    "tr1 = md.load_xtc('pbc1.xtc',top=pdbid+'.gro')\n",
    "idx=tr1[0].top.select(\"name CA\")\n",
    "tr1.superpose(tr1[0],atom_indices=idx)\n",
    "v = nv.show_mdtraj(tr1,gui=True)\n",
    "v"
   ]
  },
  {
   "cell_type": "code",
   "execution_count": null,
   "metadata": {},
   "outputs": [],
   "source": [
    "rmsd = md.rmsd(tr1,tr1)\n",
    "rg = md.compute_rg(tr1)\n",
    "plt.figure(figsize=(15,8))\n",
    "plt.subplot(211)\n",
    "plt.plot(rmsd)\n",
    "plt.grid()\n",
    "plt.ylabel('RMSD wrt. frame 0 (nm)')\n",
    "plt.subplot(212)\n",
    "plt.plot(rg)\n",
    "plt.grid()\n",
    "plt.ylabel('Radious of gyration (nm)')\n",
    "plt.xlabel('time (10 ps steps)')\n",
    "plt.show()"
   ]
  },
  {
   "cell_type": "markdown",
   "metadata": {},
   "source": [
    "### 4.3 Run metadynamics"
   ]
  },
  {
   "cell_type": "code",
   "execution_count": null,
   "metadata": {},
   "outputs": [],
   "source": [
    "!cp {basedir}/md.mdp.template md.mdp\n",
    "\n",
    "# XXX: hack plumed.dat, FIT_TO_TEMPLATE TYPE=OPTIMAL is broken\n",
    "!sed '/^FIT_TO_TEMPLATE/s/TYPE=OPTIMAL/TYPE=SIMPLE/' plumed.dat >plumed.dat.$$ && mv plumed.dat.$$ plumed.dat\n",
    "\n",
    "with open('md.mdp','a') as mdp:\n",
    "    mdp.write(\"nsteps = %d\\n\" % mdsteps)\n",
    "\n",
    "!gmx grompp -f md.mdp -c npt.gro -t npt.cpt -p topol.top -o md2.tpr && \\\n",
    "gmx mdrun -ntomp {ntomp} -ntmpi {ntmpi} -pin on -deffnm md2 -plumed plumed"
   ]
  },
  {
   "cell_type": "code",
   "execution_count": null,
   "metadata": {},
   "outputs": [],
   "source": [
    "!echo 1 | gmx trjconv -f md2.xtc -s npt.gro -pbc nojump -o pbc2.xtc\n",
    "\n",
    "tr2 = md.load_xtc('pbc2.xtc',top=pdbid+'.gro')\n",
    "idx=tr2[0].top.select(\"name CA\")\n",
    "tr2.superpose(tr2[0],atom_indices=idx)\n",
    "v = nv.show_mdtraj(tr2,gui=True)\n",
    "v"
   ]
  },
  {
   "cell_type": "code",
   "execution_count": null,
   "metadata": {},
   "outputs": [],
   "source": [
    "rmsd = md.rmsd(tr2,tr2)\n",
    "rg = md.compute_rg(tr2)\n",
    "plt.figure(figsize=(15,8))\n",
    "plt.subplot(211)\n",
    "plt.plot(rmsd)\n",
    "plt.grid()\n",
    "plt.ylabel('RMSD wrt. frame 0 (nm)')\n",
    "plt.subplot(212)\n",
    "plt.plot(rg)\n",
    "plt.grid()\n",
    "plt.ylabel('Radious of gyration (nm)')\n",
    "plt.xlabel('time (10 ps steps)')\n",
    "plt.show()"
   ]
  }
 ],
 "metadata": {
  "kernelspec": {
   "display_name": "Python 3",
   "language": "python",
   "name": "python3"
  },
  "language_info": {
   "codemirror_mode": {
    "name": "ipython",
    "version": 3
   },
   "file_extension": ".py",
   "mimetype": "text/x-python",
   "name": "python",
   "nbconvert_exporter": "python",
   "pygments_lexer": "ipython3",
   "version": "3.6.8"
  }
 },
 "nbformat": 4,
 "nbformat_minor": 2
}
