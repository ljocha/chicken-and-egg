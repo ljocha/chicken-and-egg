{
 "cells": [
  {
   "cell_type": "markdown",
   "metadata": {},
   "source": [
    "# Chicken and egg in molecular metadynamics\n",
    "Create protein folding landmarks from scratch\n",
    "\n"
   ]
  },
  {
   "cell_type": "code",
   "execution_count": 54,
   "metadata": {},
   "outputs": [],
   "source": [
    "from pypdb import get_pdb_file\n",
    "\n",
    "id=\"1L2Y\"\n",
    "pdb=get_pdb_file(id)\n",
    "\n",
    "f=open(id + \".pdb\",\"w\")\n",
    "f.write(pdb)\n",
    "f.close()"
   ]
  },
  {
   "cell_type": "code",
   "execution_count": 55,
   "metadata": {},
   "outputs": [
    {
     "data": {
      "application/vnd.jupyter.widget-view+json": {
       "model_id": "a231312251d84f178bac1891ac282e97",
       "version_major": 2,
       "version_minor": 0
      },
      "text/plain": [
       "NGLWidget()"
      ]
     },
     "metadata": {},
     "output_type": "display_data"
    }
   ],
   "source": [
    "import nglview as nv\n",
    "\n",
    "v = nv.NGLWidget()\n",
    "v.add_component(id + \".pdb\")\n",
    "v.clear()\n",
    "v.add_representation('cartoon', selection='all', color='green')\n",
    "v"
   ]
  },
  {
   "cell_type": "code",
   "execution_count": 83,
   "metadata": {},
   "outputs": [
    {
     "name": "stdout",
     "output_type": "stream",
     "text": [
      "[6.912535835377186, 8.273252375872218, 7.21681940657975, 7.12586947973304, 7.155372621679167, 7.5835420901398995, 7.569599577858306, 7.800184274332994, 8.031504203639091, 7.660292458872461, 7.847669516020108, 7.686998295621182, 7.945730860319837, 7.065115310726336, 8.005459029927662, 7.03908082333806, 7.489799924034694, 8.275812233118312, 6.974458357074524, 7.874030321360755, 7.089478033104566, 7.605520446393008, 7.603063557668767, 7.780947780303762, 8.11738046229387, 7.876887656126618, 7.8407859467977365, 7.544981122693619, 7.507460161863262, 7.015373947710149, 7.7663778994045565, 7.50164169376788, 7.148899392447197, 8.213820020092014, 7.538819530527147, 7.6964627360733795, 7.298906142147095, 6.982642458077545, 7.04189551145512, 7.2417062511123245, 7.608550478725707, 6.797701821456703, 8.06350779527907, 6.8112194898156755, 7.117221808374584, 7.992755830300593, 7.711527785184542, 7.501100702236256, 7.725176802725395, 8.20835798072743, 6.891276972202353, 7.745937902669319, 6.922431704307885, 7.251221649569989, 7.269704841422998, 8.042366119151684, 7.455035630914566, 7.4495538937146835, 8.327202713358052, 7.487781351636847, 7.1373347549638195, 7.151933448533639, 7.257313973563645, 6.928453021607047, 7.983651458552309, 8.200000164987426, 7.065780490499353, 7.981855148880707, 6.977744563782808, 7.464721645571039, 7.90091597557585, 7.493629153963942, 6.681026067079132, 8.330468005321507, 7.226595244115617, 7.659153804416306, 7.4297316279657055, 6.954591430332335, 7.345895790197719, 7.462359615628512, 8.027526496807265, 7.5588888813412884, 7.568835538164877, 7.207527777688056, 7.365648559483703, 7.506220295405044, 6.969610586516261, 7.253173299630376, 7.773843463366721, 7.371634409919052, 7.449914266537783, 8.141370440938177, 8.107143172909089, 8.079199997462359, 7.837606688682985, 7.304899403691085, 7.901204859734843, 7.062655791749336, 7.0149169306744, 6.804804500521644, 6.890911686575636, 7.677508308472262, 8.279099658561297, 7.975586361548479, 7.160363811333278, 7.208308897459579, 7.19641524512714, 7.087104529291656, 7.261695997168962, 7.009464033105334, 7.470910626711358, 8.00728439913237, 7.4917262884160944, 7.122899173736032, 7.361197344615775, 6.857670692837708, 6.87249170308568, 8.192054597047902, 7.880514889572012, 7.567134055990509]\n"
     ]
    },
    {
     "ename": "NameError",
     "evalue": "name 'plt' is not defined",
     "output_type": "error",
     "traceback": [
      "\u001b[0;31m---------------------------------------------------------------------------\u001b[0m",
      "\u001b[0;31mNameError\u001b[0m                                 Traceback (most recent call last)",
      "\u001b[0;32m<ipython-input-83-40c67c99d982>\u001b[0m in \u001b[0;36m<module>\u001b[0;34m\u001b[0m\n\u001b[1;32m     81\u001b[0m \u001b[0mprint\u001b[0m\u001b[0;34m(\u001b[0m\u001b[0mrgs\u001b[0m\u001b[0;34m)\u001b[0m\u001b[0;34m\u001b[0m\u001b[0;34m\u001b[0m\u001b[0m\n\u001b[1;32m     82\u001b[0m \u001b[0;34m\u001b[0m\u001b[0m\n\u001b[0;32m---> 83\u001b[0;31m \u001b[0mfig\u001b[0m\u001b[0;34m,\u001b[0m \u001b[0max\u001b[0m \u001b[0;34m=\u001b[0m \u001b[0mplt\u001b[0m\u001b[0;34m.\u001b[0m\u001b[0msubplots\u001b[0m\u001b[0;34m(\u001b[0m\u001b[0;34m)\u001b[0m\u001b[0;34m\u001b[0m\u001b[0;34m\u001b[0m\u001b[0m\n\u001b[0m\u001b[1;32m     84\u001b[0m \u001b[0mn\u001b[0m\u001b[0;34m,\u001b[0m \u001b[0mbins\u001b[0m\u001b[0;34m,\u001b[0m \u001b[0mpatches\u001b[0m \u001b[0;34m=\u001b[0m \u001b[0max\u001b[0m\u001b[0;34m.\u001b[0m\u001b[0mhist\u001b[0m\u001b[0;34m(\u001b[0m\u001b[0mrgs\u001b[0m\u001b[0;34m,\u001b[0m \u001b[0;36m30\u001b[0m\u001b[0;34m)\u001b[0m\u001b[0;34m\u001b[0m\u001b[0;34m\u001b[0m\u001b[0m\n\u001b[1;32m     85\u001b[0m \u001b[0max\u001b[0m\u001b[0;34m.\u001b[0m\u001b[0mset_title\u001b[0m\u001b[0;34m(\u001b[0m\u001b[0;34m'Radius of gyration'\u001b[0m\u001b[0;34m)\u001b[0m\u001b[0;34m\u001b[0m\u001b[0;34m\u001b[0m\u001b[0m\n",
      "\u001b[0;31mNameError\u001b[0m: name 'plt' is not defined"
     ]
    }
   ],
   "source": [
    "import math\n",
    "import pybel\n",
    "from pyDOE import lhs\n",
    "from pypdb import describe_pdb\n",
    "\n",
    "pdb = id + \".pdb\"\n",
    "nres = int(describe_pdb(id)['nr_residues'])\n",
    "\n",
    "out='conf%d.pdb'\n",
    "\n",
    "# number of steps to twist a dihedral\n",
    "nsteps = 12\n",
    "\n",
    "# number of iterations; alltogether niter * nsteps random conformers are generated\n",
    "#niter = 200\n",
    "niter = 10\n",
    "\n",
    "conf = 1\n",
    "rgs = []\n",
    "\n",
    "mols = list(pybel.readfile('pdb',pdb))\n",
    "mol=mols[0]\n",
    "\n",
    "# if I knew SMARTS better, oxygens would not have been counted\n",
    "pattern = '[NH3]-[CH]-C(=O)'\n",
    "for _ in range(nres-1):\n",
    "    pattern += '-N-C-C(=O)'\n",
    "    \n",
    "sp = pybel.Smarts(pattern)\n",
    "\n",
    "match = sp.findall(mol)\n",
    "\n",
    "if len(match) != 1:\n",
    "    print(\"backbone pattern not matched\")\n",
    "    raise\n",
    "    \n",
    "match = match[0]\n",
    "    \n",
    "def set_phi(mol,match,r,phi):\n",
    "    a1 = mol.atoms[4*(r-1)-2].OBAtom\n",
    "    a2 = mol.atoms[4*(r-1)].OBAtom\n",
    "    a3 = mol.atoms[4*(r-1)+1].OBAtom\n",
    "    a4 = mol.atoms[4*(r-1)+2].OBAtom\n",
    "    mol.OBMol.SetTorsion(a1,a2,a3,a4,phi/180*math.pi)\n",
    "    \n",
    "def set_psi(mol,match,r,phi):\n",
    "    a1 = mol.atoms[4*(r-1)].OBAtom\n",
    "    a2 = mol.atoms[4*(r-1)+1].OBAtom\n",
    "    a3 = mol.atoms[4*(r-1)+2].OBAtom\n",
    "    a4 = mol.atoms[4*(r-1)+4].OBAtom\n",
    "    mol.OBMol.SetTorsion(a1,a2,a3,a4,phi/180*math.pi)\n",
    "    \n",
    "def rg(mol):\n",
    "    n = len(mol.atoms)\n",
    "    \n",
    "    x = [mol.atoms[i].coords for i in range(n)]\n",
    "    \n",
    "    mass = [mol.atoms[i].exactmass for i in range(n)]\n",
    "    xm = [(m*i,m*j,m*k) for (i,j,k),m in zip(x,mass)]\n",
    "    tmass = sum(mass)\n",
    "    rr = sum(mi*i+mj*j+mk*k for (i,j,k),(mi,mj,mk) in zip(x,xm))\n",
    "    mm = sum((sum(i)/tmass)**2 for i in zip(*xm))\n",
    "    return math.sqrt(rr/tmass - mm)\n",
    "\n",
    "rgs = []\n",
    "\n",
    "for _ in range(niter):\n",
    "    phi = lhs(nres - 2, nsteps)\n",
    "    psi = lhs(nres - 2, nsteps)\n",
    "\n",
    "    for s in range(nsteps):\n",
    "        for r in range(2,nres):\n",
    "            set_phi(mol,match,r,phi[s][r-2] * 360)\n",
    "            set_psi(mol,match,r,psi[s][r-2] * 360)\n",
    "            \n",
    "        fn = out % conf\n",
    "        mol.write('pdb',fn,overwrite=True)\n",
    "        rgs.append(rg(mol))\n",
    "        conf += 1\n",
    "            \n",
    "print(rgs)\n",
    "\n",
    "fig, ax = plt.subplots()\n",
    "n, bins, patches = ax.hist(rgs, 30)\n",
    "ax.set_title('Radius of gyration')\n",
    "plt.show()\n",
    "\n"
   ]
  },
  {
   "cell_type": "code",
   "execution_count": 61,
   "metadata": {},
   "outputs": [
    {
     "data": {
      "application/vnd.jupyter.widget-view+json": {
       "model_id": "395e13b2619743928797ea73f010456b",
       "version_major": 2,
       "version_minor": 0
      },
      "text/plain": [
       "NGLWidget()"
      ]
     },
     "metadata": {},
     "output_type": "display_data"
    }
   ],
   "source": [
    "import nglview as nv\n",
    "\n",
    "v = nv.show_url(\"conf1250.pdb\")\n",
    "v.clear()\n",
    "v.add_representation('cartoon',selection='all',color='green')\n",
    "v"
   ]
  },
  {
   "cell_type": "code",
   "execution_count": null,
   "metadata": {},
   "outputs": [],
   "source": [
    "import math\n",
    "\n"
   ]
  }
 ],
 "metadata": {
  "kernelspec": {
   "display_name": "Python 3",
   "language": "python",
   "name": "python3"
  },
  "language_info": {
   "codemirror_mode": {
    "name": "ipython",
    "version": 3
   },
   "file_extension": ".py",
   "mimetype": "text/x-python",
   "name": "python",
   "nbconvert_exporter": "python",
   "pygments_lexer": "ipython3",
   "version": "3.6.7"
  }
 },
 "nbformat": 4,
 "nbformat_minor": 2
}
