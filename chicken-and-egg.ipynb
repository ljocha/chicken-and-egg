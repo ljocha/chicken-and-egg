{
 "cells": [
  {
   "cell_type": "markdown",
   "metadata": {},
   "source": [
    "# Chicken and egg in molecular metadynamics\n",
    "Create protein folding landmarks from scratch\n",
    "\n"
   ]
  },
  {
   "cell_type": "code",
   "execution_count": 2,
   "metadata": {},
   "outputs": [],
   "source": [
    "from pypdb import get_pdb_file\n",
    "\n",
    "id=\"1L2Y\"\n",
    "pdb=get_pdb_file(id)\n",
    "\n",
    "f=open(id + \".pdb\",\"w\")\n",
    "f.write(pdb)\n",
    "f.close()"
   ]
  },
  {
   "cell_type": "code",
   "execution_count": 3,
   "metadata": {},
   "outputs": [
    {
     "data": {
      "application/vnd.jupyter.widget-view+json": {
       "model_id": "7bdd6578a4a645959367831d48d24572",
       "version_major": 2,
       "version_minor": 0
      },
      "text/plain": [
       "NGLWidget()"
      ]
     },
     "metadata": {},
     "output_type": "display_data"
    }
   ],
   "source": [
    "import nglview as nv\n",
    "\n",
    "v = nv.NGLWidget()\n",
    "v.add_component(id + \".pdb\")\n",
    "v.clear()\n",
    "v.add_representation('cartoon', selection='all', color='green')\n",
    "v"
   ]
  },
  {
   "cell_type": "code",
   "execution_count": null,
   "metadata": {},
   "outputs": [],
   "source": []
  },
  {
   "cell_type": "code",
   "execution_count": 7,
   "metadata": {},
   "outputs": [],
   "source": [
    "# number of steps to twist a dihedral\n",
    "nsteps = 12\n",
    "\n",
    "# number of iterations; alltogether niter * nsteps random conformers are generated\n",
    "#niter = 200\n",
    "niter = 10\n",
    "\n",
    "\n",
    "import math\n",
    "import pybel\n",
    "from pyDOE import lhs\n",
    "from pypdb import describe_pdb\n",
    "import matplotlib.pyplot as plt\n",
    "import os\n",
    "\n",
    "pdb = id + \".pdb\"\n",
    "nres = int(describe_pdb(id)['nr_residues'])\n",
    "\n",
    "if not os.path.exists('my_folder'):\n",
    "    os.mkdir('my_folder')\n",
    "    \n",
    "out='work/conf%d.pdb'\n",
    "\n",
    "conf = 1\n",
    "rgs = []\n",
    "\n",
    "mols = list(pybel.readfile('pdb',pdb))\n",
    "mol=mols[0]\n",
    "\n",
    "# if I knew SMARTS better, oxygens would not have been counted\n",
    "pattern = '[NH3]-[CH]-C(=O)'\n",
    "for _ in range(nres-1):\n",
    "    pattern += '-N-C-C(=O)'\n",
    "    \n",
    "sp = pybel.Smarts(pattern)\n",
    "\n",
    "match = sp.findall(mol)\n",
    "\n",
    "if len(match) != 1:\n",
    "    print(\"backbone pattern not matched\")\n",
    "    raise\n",
    "    \n",
    "match = match[0]\n",
    "    \n",
    "def set_phi(mol,match,r,phi):\n",
    "    a1 = mol.atoms[4*(r-1)-2].OBAtom\n",
    "    a2 = mol.atoms[4*(r-1)].OBAtom\n",
    "    a3 = mol.atoms[4*(r-1)+1].OBAtom\n",
    "    a4 = mol.atoms[4*(r-1)+2].OBAtom\n",
    "    mol.OBMol.SetTorsion(a1,a2,a3,a4,phi/180*math.pi)\n",
    "    \n",
    "def set_psi(mol,match,r,phi):\n",
    "    a1 = mol.atoms[4*(r-1)].OBAtom\n",
    "    a2 = mol.atoms[4*(r-1)+1].OBAtom\n",
    "    a3 = mol.atoms[4*(r-1)+2].OBAtom\n",
    "    a4 = mol.atoms[4*(r-1)+4].OBAtom\n",
    "    mol.OBMol.SetTorsion(a1,a2,a3,a4,phi/180*math.pi)\n",
    "    \n",
    "def rg(mol):\n",
    "    n = len(mol.atoms)\n",
    "    \n",
    "    x = [mol.atoms[i].coords for i in range(n)]\n",
    "    \n",
    "    mass = [mol.atoms[i].exactmass for i in range(n)]\n",
    "    xm = [(m*i,m*j,m*k) for (i,j,k),m in zip(x,mass)]\n",
    "    tmass = sum(mass)\n",
    "    rr = sum(mi*i+mj*j+mk*k for (i,j,k),(mi,mj,mk) in zip(x,xm))\n",
    "    mm = sum((sum(i)/tmass)**2 for i in zip(*xm))\n",
    "    return math.sqrt(rr/tmass - mm)\n",
    "\n",
    "rgs = []\n",
    "\n",
    "for _ in range(niter):\n",
    "    phi = lhs(nres - 2, nsteps)\n",
    "    psi = lhs(nres - 2, nsteps)\n",
    "\n",
    "    for s in range(nsteps):\n",
    "        for r in range(2,nres):\n",
    "            set_phi(mol,match,r,phi[s][r-2] * 360)\n",
    "            set_psi(mol,match,r,psi[s][r-2] * 360)\n",
    "            \n",
    "        fn = out % conf\n",
    "        mol.write('pdb',fn,overwrite=True)\n",
    "# slooooooow, don't run by default\n",
    "#        rgs.append(rg(mol))\n",
    "        conf += 1\n",
    "\n",
    "if rgs:\n",
    "    print(rgs)\n",
    "\n",
    "    fig, ax = plt.subplots()\n",
    "    n, bins, patches = ax.hist(rgs, 30)\n",
    "    ax.set_title('Radius of gyration')\n",
    "    plt.show()\n",
    "\n"
   ]
  },
  {
   "cell_type": "code",
   "execution_count": null,
   "metadata": {},
   "outputs": [],
   "source": []
  },
  {
   "cell_type": "code",
   "execution_count": null,
   "metadata": {},
   "outputs": [],
   "source": []
  },
  {
   "cell_type": "code",
   "execution_count": 5,
   "metadata": {},
   "outputs": [
    {
     "data": {
      "application/vnd.jupyter.widget-view+json": {
       "model_id": "506e5a272d994fba83f2d5138f2f2b0a",
       "version_major": 2,
       "version_minor": 0
      },
      "text/plain": [
       "NGLWidget()"
      ]
     },
     "metadata": {},
     "output_type": "display_data"
    }
   ],
   "source": [
    "import nglview as nv\n",
    "\n",
    "v = nv.show_url(\"work/conf12.pdb\")\n",
    "v.clear()\n",
    "v.add_representation('cartoon',selection='all',color='green')\n",
    "v"
   ]
  },
  {
   "cell_type": "code",
   "execution_count": null,
   "metadata": {},
   "outputs": [],
   "source": []
  },
  {
   "cell_type": "code",
   "execution_count": 16,
   "metadata": {},
   "outputs": [],
   "source": [
    "# number of cores to use (all if empty)\n",
    "\n",
    "ncores=\n",
    "\n",
    "# the most likely minimization parameters to change; rest is in the template file\n",
    "minim_mdp = '''\n",
    "emtol       = 100.0        ; Stop minimization when the maximum force < 1000.0 kJ/mol/nm\n",
    "emstep      = 0.01          ; Minimization step size\n",
    "nsteps      = 50000         ; Maximum number of (minimization) steps to perform\n",
    "'''\n",
    "\n",
    "!cp ../minim.mdp.template minim.mdp\n",
    "f=open('minim.mdp','a')\n",
    "f.write(minim_mdp)\n",
    "f.close()\n",
    "\n",
    "!bash ../minim.sh {ncores}\n"
   ]
  },
  {
   "cell_type": "code",
   "execution_count": 18,
   "metadata": {},
   "outputs": [
    {
     "name": "stdout",
     "output_type": "stream",
     "text": [
      "14\r\n"
     ]
    }
   ],
   "source": [
    "baf=14\n",
    "!echo {baf}"
   ]
  },
  {
   "cell_type": "code",
   "execution_count": null,
   "metadata": {},
   "outputs": [],
   "source": []
  },
  {
   "cell_type": "code",
   "execution_count": null,
   "metadata": {},
   "outputs": [],
   "source": []
  },
  {
   "cell_type": "code",
   "execution_count": null,
   "metadata": {},
   "outputs": [],
   "source": [
    "import math\n",
    "\n"
   ]
  }
 ],
 "metadata": {
  "kernelspec": {
   "display_name": "Python 3",
   "language": "python",
   "name": "python3"
  },
  "language_info": {
   "codemirror_mode": {
    "name": "ipython",
    "version": 3
   },
   "file_extension": ".py",
   "mimetype": "text/x-python",
   "name": "python",
   "nbconvert_exporter": "python",
   "pygments_lexer": "ipython3",
   "version": "3.6.7"
  }
 },
 "nbformat": 4,
 "nbformat_minor": 2
}
