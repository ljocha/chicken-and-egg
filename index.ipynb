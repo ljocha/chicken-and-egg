{
 "cells": [
  {
   "cell_type": "markdown",
   "metadata": {},
   "source": [
    "# Chicken and egg in molecular metadynamics\n",
    "\n",
    "### Create protein folding landmarks from scratch\n",
    "\n",
    "\n",
    "The whole workflow is implemented as a sequence of notebooks. Run them one ofter another.\n",
    "\n",
    "#### [1. Generate random landmarks](gen-landmarks.ipynb)\n",
    "\n",
    "Load the starting structure (e.g. downloaded from PDB), \n",
    "\n",
    "#### [2. Compute isomap projection of the landmarks](isomap.ipynb)\n",
    "\n",
    "#### [3. Train the ANN](anncolvar.ipynb) \n",
    "\n",
    "..."
   ]
  }
 ],
 "metadata": {
  "kernelspec": {
   "display_name": "Python 3",
   "language": "python",
   "name": "python3"
  },
  "language_info": {
   "codemirror_mode": {
    "name": "ipython",
    "version": 3
   },
   "file_extension": ".py",
   "mimetype": "text/x-python",
   "name": "python",
   "nbconvert_exporter": "python",
   "pygments_lexer": "ipython3",
   "version": "3.6.7"
  }
 },
 "nbformat": 4,
 "nbformat_minor": 2
}
