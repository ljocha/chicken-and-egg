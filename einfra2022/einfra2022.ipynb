{
 "cells": [
  {
   "cell_type": "markdown",
   "id": "2b1dd450",
   "metadata": {
    "slideshow": {
     "slide_type": "slide"
    }
   },
   "source": [
    "# Výpočty foldovacích trajektorií proteinů a korekce jejich potenciálů s využitím Kubernetes a Jupyter Notebooků\n",
    "\n",
    "## Aleš Křenek, Konference e-Infra CZ, 10.5.2022\n"
   ]
  },
  {
   "cell_type": "markdown",
   "id": "54d277b6",
   "metadata": {
    "slideshow": {
     "slide_type": "slide"
    }
   },
   "source": [
    "# Stále stejná pohádka ...\n",
    "\n",
    "- Důvodem existence infrastruktury jsou aplikace, které ji používají\n",
    "- Infrastruktura se má přizpůsobit aplikacím, ne naopak\n",
    "- Zázraky se nedějí, je třeba držet se reálných možností\n",
    "- Ukazujeme možnou cestu jak dlouhodobá spolupráce motivovala konkrétní rozvoj infrastruktury\n",
    "\n",
    "\n",
    "- Tato prezentace je několik vydloubaných třešniček z https://github.com/ljocha/chicken-and-egg"
   ]
  },
  {
   "cell_type": "markdown",
   "id": "fd134d06",
   "metadata": {
    "slideshow": {
     "slide_type": "slide"
    }
   },
   "source": [
    "# Aplikační problémy a postupy jejich řešení\n",
    "\n",
    "- Tzv. problém \"slepice a vejce\" při urychlování simulace foldingu proteinu -- simulaci umíme vést rychle k cíli, známe-li cestu; proč ale hledat cestu, když ji známe? \n",
    "- Korekce potenciálů -- empirické potenciály fungují dobře pro simulace proteinů, nepřesné pro malé molekuly (léčiva apod.), je třeba je korigovat s použitím kvantově chemických výpočtů.\n",
    "\n",
    "\n",
    "\n",
    "- Experimentální, opakovaně modifikované postupy -- Jupyter Notebook je vhodné prostředí\n",
    "- Některé kroky vyžadují velké softwarové balíky a větší výpočetní zdroje (paměť, CPU, GPU)\n",
    "- Alokovat je na celou dobu by bylo nepřijatelné plýtvání"
   ]
  },
  {
   "cell_type": "code",
   "execution_count": null,
   "id": "f41176b8",
   "metadata": {
    "slideshow": {
     "slide_type": "skip"
    }
   },
   "outputs": [],
   "source": [
    "import anncolvar\n",
    "\n",
    "import os\n",
    "import shutil\n",
    "from contextlib import redirect_stdout\n",
    "import re\n",
    "\n",
    "import concurrent.futures\n",
    "\n",
    "import numpy as np\n",
    "import math\n",
    "from scipy.sparse import coo_matrix,save_npz,load_npz\n",
    "\n",
    "from pyDOE import lhs\n",
    "from scipy.sparse.csgraph import shortest_path\n",
    "from sklearn.manifold import MDS\n",
    "\n",
    "import PeptideBuilder as pb\n",
    "import Bio.PDB as pdb\n",
    "import Bio.SeqUtils as sequtil\n",
    "\n",
    "import mdtraj as md\n",
    "\n",
    "import matplotlib.pyplot as plt\n",
    "import nglview as nv\n",
    "\n",
    "# from xvg import read_xvg\n"
   ]
  },
  {
   "cell_type": "code",
   "execution_count": null,
   "id": "99baaa68",
   "metadata": {
    "slideshow": {
     "slide_type": "skip"
    }
   },
   "outputs": [],
   "source": [
    "ncores = 8\n",
    "ntomp = 2\n",
    "ntmpi = ncores // ntomp"
   ]
  },
  {
   "cell_type": "code",
   "execution_count": null,
   "id": "d3b730b1",
   "metadata": {
    "slideshow": {
     "slide_type": "skip"
    }
   },
   "outputs": [],
   "source": [
    "workdir=\"/work/1L2Y\"\n",
    "os.chdir(workdir)"
   ]
  },
  {
   "cell_type": "markdown",
   "id": "711dbbaf",
   "metadata": {
    "slideshow": {
     "slide_type": "slide"
    }
   },
   "source": [
    "# Běžná práce s notebookem"
   ]
  },
  {
   "cell_type": "markdown",
   "id": "1e3f802d",
   "metadata": {
    "slideshow": {
     "slide_type": "slide"
    }
   },
   "source": [
    "<img src=\"start.pdf\" width=80% />"
   ]
  },
  {
   "cell_type": "code",
   "execution_count": null,
   "id": "e56807e3",
   "metadata": {
    "slideshow": {
     "slide_type": "slide"
    }
   },
   "outputs": [],
   "source": [
    "pdbid=\"1L2Y\"\n",
    "pdbfile=f\"{pdbid}.pdb\"\n",
    "m = md.load(pdbfile)\n",
    "v = nv.show_mdtraj(m)\n",
    "v.add_representation(\"licorice\")\n",
    "v"
   ]
  },
  {
   "cell_type": "code",
   "execution_count": null,
   "id": "6c312c76",
   "metadata": {
    "slideshow": {
     "slide_type": "slide"
    }
   },
   "outputs": [],
   "source": [
    "nsteps = 12\n",
    "p = pdb.PDBParser()\n",
    "instruct = p.get_structure('in',pdbfile)\n",
    "resl = list(map(lambda r: sequtil.seq1(r.get_resname()),instruct.get_residues()))\n",
    "nres = len(resl)\n",
    "out='conf%d.pdb'\n",
    "\n",
    "itrn = 0\n",
    "np.random.seed(itrn + 123456789)\n",
    "\n",
    "phi = lhs(nres - 2, nsteps)\n",
    "psi = lhs(nres - 2, nsteps)\n",
    "outf = pdb.PDBIO()\n",
    "\n",
    "for s in range(nsteps):\n",
    "    first = pb.Geometry.geometry(resl[0])\n",
    "    struct = pb.initialize_res(first)\n",
    "    \n",
    "    for r in range(1,nres-1):\n",
    "        if resl[r] == 'P':\n",
    "            pb.add_residue(struct,resl[r])\n",
    "        else:\n",
    "            pb.add_residue(struct,resl[r],phi[s][r-1]*360,psi[2][r-1]*360)\n",
    "            \n",
    "    pb.add_residue(struct,resl[nres-1])\n",
    "        \n",
    "    fn = out % (itrn * nsteps + s + 1)\n",
    "    outf.set_structure(struct)\n",
    "    outf.save(fn)"
   ]
  },
  {
   "cell_type": "code",
   "execution_count": null,
   "id": "a1f91402",
   "metadata": {
    "slideshow": {
     "slide_type": "slide"
    }
   },
   "outputs": [],
   "source": [
    "!ls -lt conf*pdb | head -12"
   ]
  },
  {
   "cell_type": "code",
   "execution_count": null,
   "id": "509d2d2c",
   "metadata": {
    "slideshow": {
     "slide_type": "slide"
    }
   },
   "outputs": [],
   "source": [
    "tr = md.load([ \"conf%d.pdb\" % i for i in range(1,nsteps+1)])\n",
    "idx=tr[0].top.select(\"name CA\")\n",
    "tr.superpose(tr[0],atom_indices=idx)\n",
    "v=nv.show_mdtraj(tr)\n",
    "#v.clear()\n",
    "v.add_representation(\"licorice\")\n",
    "v\n"
   ]
  },
  {
   "cell_type": "markdown",
   "id": "658703ef",
   "metadata": {
    "slideshow": {
     "slide_type": "slide"
    }
   },
   "source": [
    "# Spuštění programu v dalším kontejneru"
   ]
  },
  {
   "cell_type": "code",
   "execution_count": null,
   "id": "2d86c19c",
   "metadata": {},
   "outputs": [],
   "source": [
    "base='conf5'\n",
    "gmx=f\"/work/gmx-k8s -w {pdbid}\""
   ]
  },
  {
   "cell_type": "code",
   "execution_count": null,
   "id": "8276026d",
   "metadata": {},
   "outputs": [],
   "source": [
    "!{gmx} pdb2gmx -f {base}.pdb -o {base}.gro -p {base} -i {base} -water spce -ff amber99 -ignh\n",
    "!{gmx} editconf -f {base}.gro -o {base}-box.gro -d 1.5 -bt cubic\n",
    "!{gmx} grompp -f minim.mdp -c {base}-box.gro -p {base}.top -o {base}-min.tpr -po {base}-min.mdp -maxwarn 1"
   ]
  },
  {
   "cell_type": "code",
   "execution_count": null,
   "id": "8c7518a5",
   "metadata": {},
   "outputs": [],
   "source": [
    "!{gmx} mdrun -v -deffnm {base}-min -ntomp 1 -nb cpu -pme cpu"
   ]
  },
  {
   "cell_type": "markdown",
   "id": "501f3d11",
   "metadata": {
    "slideshow": {
     "slide_type": "slide"
    }
   },
   "source": [
    "<img src=\"gmx-k8s.pdf\" width=80%/>"
   ]
  },
  {
   "cell_type": "code",
   "execution_count": null,
   "id": "a90bce66",
   "metadata": {
    "slideshow": {
     "slide_type": "slide"
    }
   },
   "outputs": [],
   "source": [
    "v = nv.show_mdtraj(md.load(\"conf5-min.trr\",top=\"conf5-min.gro\"))\n",
    "v.add_representation(\"licorice\")\n",
    "v"
   ]
  },
  {
   "cell_type": "markdown",
   "id": "cb5b1e82",
   "metadata": {
    "slideshow": {
     "slide_type": "slide"
    }
   },
   "source": [
    "# Náročnější výpočet v notebooku"
   ]
  },
  {
   "cell_type": "code",
   "execution_count": null,
   "id": "128ca482",
   "metadata": {},
   "outputs": [],
   "source": [
    "def scale(cores):\n",
    "    !kubectl scale deployment.apps/chicken-and-egg{os.environ.get('K8S_LABEL')}-placeholder --replicas={cores}"
   ]
  },
  {
   "cell_type": "code",
   "execution_count": null,
   "id": "c390c154",
   "metadata": {
    "slideshow": {
     "slide_type": "skip"
    }
   },
   "outputs": [],
   "source": [
    "neighs = 5\n",
    "dims = 2\n",
    "tr = md.load('landmarks.pdb')\n",
    "\n",
    "if False:\n",
    "    scale(ncores)\n",
    "    nconf = len(tr)\n",
    "\n",
    "    row=[]\n",
    "    col=[]\n",
    "    dat=[]\n",
    "\n",
    "    for i in range(nconf):\n",
    "        d = md.rmsd(tr,tr,frame=i)\n",
    "        d[range(i+1)] = np.inf\n",
    "        for _ in range(neighs):\n",
    "            j = np.argmin(d)\n",
    "            if d[j] < np.inf:\n",
    "                row.append(i)\n",
    "                col.append(j)\n",
    "                dat.append(d[j])\n",
    "                row.append(j)\n",
    "                col.append(i)\n",
    "                dat.append(d[j])\n",
    "                d[j] = np.inf\n",
    "\n",
    "    # store results in sparse matrix\n",
    "    dist = coo_matrix((dat,(row,col)),shape=(nconf,nconf)) \n",
    "    scale(0)\n",
    "\n",
    "    # check sanity\n",
    "    print(\"conformations (original dimensions): \", nconf)\n",
    "    print(\"non-zero distances: \", dist.getnnz())\n",
    "    save_npz(\"dist.npz\",dist)"
   ]
  },
  {
   "cell_type": "code",
   "execution_count": null,
   "id": "76c2c9d1",
   "metadata": {
    "slideshow": {
     "slide_type": "-"
    }
   },
   "outputs": [],
   "source": [
    "dist = load_npz(\"dist.npz\")\n",
    "scale(ncores)\n",
    "sp = shortest_path(dist,directed=False)\n",
    "mds = MDS(n_components=dims,dissimilarity='precomputed',n_jobs=ncores)\n",
    "emb = mds.fit_transform(sp)\n",
    "scale(0)"
   ]
  },
  {
   "cell_type": "markdown",
   "id": "673ffaaa",
   "metadata": {
    "slideshow": {
     "slide_type": "slide"
    }
   },
   "source": [
    "<img src=\"scale.pdf\" width=80%/>"
   ]
  },
  {
   "cell_type": "code",
   "execution_count": null,
   "id": "edbdfbda",
   "metadata": {
    "slideshow": {
     "slide_type": "slide"
    }
   },
   "outputs": [],
   "source": [
    "plt.figure(figsize=(12,8))\n",
    "plt.scatter(*emb.transpose(),marker='.')\n",
    "plt.show()"
   ]
  },
  {
   "cell_type": "markdown",
   "id": "69374cea",
   "metadata": {
    "slideshow": {
     "slide_type": "slide"
    }
   },
   "source": [
    "# Náročnější výpočet v dalším kontejneru\n",
    "\n",
    "- Podobně prvnímu příkladu -- výpočet ve vedlejším kontejneru\n",
    "- Lze alokovat \"libovolné\" zdroje (CPU, GPU, RAM)\n",
    "- Různé image pro různý software (Gromacs, Orca, Nvidia tensorflow, ...)\n",
    "- O spuštění se stará plánovač K8s\n",
    "- Déle trvající úlohy mohou být restartovány (např. se staly obětí scale() někoho jiného)\n",
    "- Je třeba ukládat checkpointy a umět se restartovat"
   ]
  },
  {
   "cell_type": "markdown",
   "id": "b852a526",
   "metadata": {
    "slideshow": {
     "slide_type": "slide"
    }
   },
   "source": [
    "# Výsledky"
   ]
  },
  {
   "cell_type": "code",
   "execution_count": null,
   "id": "97ad848c",
   "metadata": {},
   "outputs": [],
   "source": [
    "tr2 = md.load_xtc(\"md-ann-pbc.xtc\",top='1L2Y.gro')\n",
    "idx=tr2[0].top.select(\"name CA\")\n",
    "tr2.superpose(tr2[0],atom_indices=idx)\n",
    "v = nv.show_mdtraj(tr2)\n",
    "#v.add_representation(\"licorice\")\n",
    "v"
   ]
  },
  {
   "cell_type": "code",
   "execution_count": null,
   "id": "15724296",
   "metadata": {
    "slideshow": {
     "slide_type": "skip"
    }
   },
   "outputs": [],
   "source": [
    "\n",
    "tr1 = md.load_xtc(\"md-vanilla-pbc.xtc\",top='1L2Y.gro')\n",
    "idx=tr1[0].top.select(\"name CA\")\n",
    "tr1.superpose(tr1[0],atom_indices=idx)\n",
    "\n",
    "tr3 = md.load_xtc(\"md-pcv-pbc.xtc\",top='1L2Y.gro')\n",
    "idx=tr3[0].top.select(\"name CA\")\n",
    "tr3.superpose(tr3[0],atom_indices=idx)\n",
    "\n",
    "def allprogress():\n",
    "    rmsd1 = md.rmsd(tr1,tr1)\n",
    "    rg1 = md.compute_rg(tr1)\n",
    "    rmsd2 = md.rmsd(tr2,tr2)\n",
    "    rg2 = md.compute_rg(tr2)\n",
    "    rmsd3 = md.rmsd(tr3,tr3)\n",
    "    rg3 = md.compute_rg(tr3)\n",
    "\n",
    "    # XXX: same lenth expected\n",
    "    l = len(rmsd1)\n",
    "    l8 = l // 8;\n",
    "    ticks = np.arange(0,l,l8)\n",
    "    labels = ticks / 100\n",
    "\n",
    "    plt.rcParams.update({'font.size': 14})\n",
    "    _,ax = plt.subplots(2,1,figsize=(20,12))\n",
    "    #plt.subplot(311)\n",
    "    ax[0].plot(rmsd1)\n",
    "    ax[0].plot(rmsd2)\n",
    "    ax[0].plot(rmsd3)\n",
    "    ax[0].grid()\n",
    "    ax[0].set_ylabel('RMSD (nm)')\n",
    "    ax[0].set_xticks(ticks)\n",
    "    ax[0].set_xticklabels(labels)\n",
    "    ax[0].legend(['unbiased','ANN','PCV'])\n",
    "    #plt.subplot(312)\n",
    "    ax[1].plot(rg1)\n",
    "    ax[1].plot(rg2)\n",
    "    ax[1].plot(rg3)\n",
    "    ax[1].grid()\n",
    "    ax[1].set_ylabel('R. gyr. (nm)')\n",
    "    ax[1].set_xticks(ticks)\n",
    "    ax[1].set_xticklabels(labels)\n",
    "    #plt.subplot(313)\n",
    "\n",
    "    plt.savefig('graphs.pdf')\n",
    "    plt.show()"
   ]
  },
  {
   "cell_type": "code",
   "execution_count": null,
   "id": "3ab6b0af",
   "metadata": {
    "slideshow": {
     "slide_type": "slide"
    }
   },
   "outputs": [],
   "source": [
    "allprogress()"
   ]
  },
  {
   "cell_type": "markdown",
   "id": "d8c5df90",
   "metadata": {
    "slideshow": {
     "slide_type": "slide"
    }
   },
   "source": [
    "# Shrnutí\n",
    "\n",
    "- Použili jsme progresivní prostředí K8s k řešení reálného problému, splňuje základní nároky\n",
    "- Zajímavé výsledky v aplikační oblasti\n",
    "\n",
    "\n",
    "- Dlouhodobě běžící Jupyter notebook s alokací minimálních zdrojů\n",
    "- Podružné výpočty lze pouštět přímo, běží v dalších kontejnerech, používají jiné image, alokují potřebné zdroje\n",
    "- Krátkodobě lze \"nafouknout\" i kapacitu dostupnou přímo notebooku\n",
    "- Vše je implementováno jako opakovaně použitelná rozšíření základní infrastuktury"
   ]
  },
  {
   "cell_type": "markdown",
   "id": "556d9b60",
   "metadata": {
    "slideshow": {
     "slide_type": "slide"
    }
   },
   "source": [
    "# Poděkování\n",
    "\n",
    "- *Vojtěch Spiwok, Dalibor Tapl, Guglielmo Tedeschi:* zdroj inspirujících problémů\n",
    "- *Vladimír Višňovský:* implementace aplikací\n",
    "- *Viktória Spišaková, Lukáš Hejtmánek:* budování infrastruktury K8s\n",
    "- *Dalibor Klusáček*: netradiční plánování úloh v K8s\n",
    "\n",
    "\n",
    "- *GAČR GA22-29667S, MŠMT LM2018140:* chléb náš vezdejší a krásné nové stroje"
   ]
  }
 ],
 "metadata": {
  "celltoolbar": "Slideshow",
  "kernelspec": {
   "display_name": "Python 3 (ipykernel)",
   "language": "python",
   "name": "python3"
  },
  "language_info": {
   "codemirror_mode": {
    "name": "ipython",
    "version": 3
   },
   "file_extension": ".py",
   "mimetype": "text/x-python",
   "name": "python",
   "nbconvert_exporter": "python",
   "pygments_lexer": "ipython3",
   "version": "3.8.10"
  },
  "rise": {
   "autolaunch": true,
   "controls": false,
   "enable_chalkboard": true,
   "slideNumber": "c/t",
   "theme": "ljocha"
  }
 },
 "nbformat": 4,
 "nbformat_minor": 5
}
