{
 "cells": [
  {
   "cell_type": "markdown",
   "id": "2b1dd450",
   "metadata": {
    "slideshow": {
     "slide_type": "slide"
    }
   },
   "source": [
    "# Výpočty foldovacích trajektorií proteinů a korekce jejich potenciálů s využitím Kubernetes a Jupyter Notebooků\n",
    "\n",
    "## Aleš Křenek, Konference e-Infra CZ, 10.5.2022\n"
   ]
  },
  {
   "cell_type": "markdown",
   "id": "54d277b6",
   "metadata": {
    "slideshow": {
     "slide_type": "slide"
    }
   },
   "source": [
    "# Stále stejná pohádka ...\n",
    "\n",
    "- Důvodem existence infrastruktury jsou aplikace, které ji používají\n",
    "- Infrastruktura se má přizpůsobit aplikacím, ne naopak\n",
    "- Zázraky se nedějí, je třeba držet se reálných možností\n",
    "- Ukazujeme možnou cestu\n",
    "\n",
    "\n",
    "- Tato prezentace je několik vydloubaných třešniček z https://github.com/ljocha/chicken-and-egg"
   ]
  },
  {
   "cell_type": "markdown",
   "id": "fd134d06",
   "metadata": {
    "slideshow": {
     "slide_type": "slide"
    }
   },
   "source": [
    "# Aplikační problémy a postupy jejich řešení\n",
    "\n",
    "- Tzv. problém \"slepice a vejce\" při urychlování simulace foldingu proteinu -- simulaci umíme vést rychle k cíli, známe-li cestu; proč ale hledat cestu, když ji známe? \n",
    "- Korekce potenciálů -- empirické potenciály fungují dobře pro simulace proteinů, nepřesné pro malé molekuly (léčiva apod.), je třeba je korigovat s použitím kvantově chemických výpočtů.\n",
    "\n",
    "\n",
    "\n",
    "- Experimentální, opakovaně modifikované postupy -- Jupyter Notebook je vhodné prostředí\n",
    "- Některé kroky vyžadují velké softwarové balíky a větší výpočetní zdroje (paměť, CPU, GPU)\n",
    "- Alokovat je na celou dobu by bylo nepřijatelné plýtvání"
   ]
  },
  {
   "cell_type": "code",
   "execution_count": 30,
   "id": "f41176b8",
   "metadata": {
    "slideshow": {
     "slide_type": "skip"
    }
   },
   "outputs": [],
   "source": [
    "import anncolvar\n",
    "\n",
    "import os\n",
    "import shutil\n",
    "from contextlib import redirect_stdout\n",
    "import re\n",
    "\n",
    "import concurrent.futures\n",
    "\n",
    "import numpy as np\n",
    "import math\n",
    "from scipy.sparse import coo_matrix,save_npz,load_npz\n",
    "\n",
    "from pyDOE import lhs\n",
    "from scipy.sparse.csgraph import shortest_path\n",
    "from sklearn.manifold import MDS\n",
    "\n",
    "import PeptideBuilder as pb\n",
    "import Bio.PDB as pdb\n",
    "import Bio.SeqUtils as sequtil\n",
    "\n",
    "import mdtraj as md\n",
    "\n",
    "import matplotlib.pyplot as plt\n",
    "import nglview as nv\n",
    "\n",
    "# from xvg import read_xvg\n"
   ]
  },
  {
   "cell_type": "code",
   "execution_count": 3,
   "id": "99baaa68",
   "metadata": {
    "slideshow": {
     "slide_type": "skip"
    }
   },
   "outputs": [],
   "source": [
    "ncores = 8\n",
    "ntomp = 2\n",
    "ntmpi = ncores // ntomp"
   ]
  },
  {
   "cell_type": "code",
   "execution_count": 4,
   "id": "d3b730b1",
   "metadata": {
    "slideshow": {
     "slide_type": "skip"
    }
   },
   "outputs": [],
   "source": [
    "workdir=\"/work/1L2Y\"\n",
    "os.chdir(workdir)"
   ]
  },
  {
   "cell_type": "markdown",
   "id": "711dbbaf",
   "metadata": {
    "slideshow": {
     "slide_type": "slide"
    }
   },
   "source": [
    "# Běžná práce s notebookem"
   ]
  },
  {
   "cell_type": "code",
   "execution_count": 5,
   "id": "e56807e3",
   "metadata": {
    "slideshow": {
     "slide_type": "slide"
    }
   },
   "outputs": [
    {
     "name": "stderr",
     "output_type": "stream",
     "text": [
      "/usr/local/lib/python3.8/dist-packages/mdtraj/formats/pdb/pdbfile.py:200: UserWarning: Unlikely unit cell vectors detected in PDB file likely resulting from a dummy CRYST1 record. Discarding unit cell vectors.\n",
      "  warnings.warn('Unlikely unit cell vectors detected in PDB file likely '\n"
     ]
    },
    {
     "data": {
      "application/vnd.jupyter.widget-view+json": {
       "model_id": "a64c8c71816c4335a87e6d495592c459",
       "version_major": 2,
       "version_minor": 0
      },
      "text/plain": [
       "NGLWidget()"
      ]
     },
     "metadata": {},
     "output_type": "display_data"
    }
   ],
   "source": [
    "pdbid=\"1L2Y\"\n",
    "pdbfile=f\"{pdbid}.pdb\"\n",
    "m = md.load(pdbfile)\n",
    "v = nv.show_mdtraj(m)\n",
    "v.add_representation(\"licorice\")\n",
    "v"
   ]
  },
  {
   "cell_type": "code",
   "execution_count": 15,
   "id": "6c312c76",
   "metadata": {
    "slideshow": {
     "slide_type": "slide"
    }
   },
   "outputs": [
    {
     "name": "stderr",
     "output_type": "stream",
     "text": [
      "/usr/local/lib/python3.8/dist-packages/Bio/PDB/Atom.py:232: PDBConstructionWarning: Used element 'H' for Atom (name=H1) with given element ''\n",
      "  warnings.warn(msg, PDBConstructionWarning)\n",
      "/usr/local/lib/python3.8/dist-packages/Bio/PDB/Atom.py:232: PDBConstructionWarning: Used element 'H' for Atom (name=H2) with given element ''\n",
      "  warnings.warn(msg, PDBConstructionWarning)\n",
      "/usr/local/lib/python3.8/dist-packages/Bio/PDB/Atom.py:232: PDBConstructionWarning: Used element 'H' for Atom (name=H3) with given element ''\n",
      "  warnings.warn(msg, PDBConstructionWarning)\n",
      "/usr/local/lib/python3.8/dist-packages/Bio/PDB/Atom.py:232: PDBConstructionWarning: Used element 'H' for Atom (name=HA) with given element ''\n",
      "  warnings.warn(msg, PDBConstructionWarning)\n",
      "/usr/local/lib/python3.8/dist-packages/Bio/PDB/Atom.py:232: PDBConstructionWarning: Used element 'H' for Atom (name=HB1) with given element ''\n",
      "  warnings.warn(msg, PDBConstructionWarning)\n",
      "/usr/local/lib/python3.8/dist-packages/Bio/PDB/Atom.py:232: PDBConstructionWarning: Used element 'H' for Atom (name=HB2) with given element ''\n",
      "  warnings.warn(msg, PDBConstructionWarning)\n",
      "/usr/local/lib/python3.8/dist-packages/Bio/PDB/Atom.py:232: PDBConstructionWarning: Used element 'H' for Atom (name=HD21) with given element ''\n",
      "  warnings.warn(msg, PDBConstructionWarning)\n",
      "/usr/local/lib/python3.8/dist-packages/Bio/PDB/Atom.py:232: PDBConstructionWarning: Used element 'H' for Atom (name=HD22) with given element ''\n",
      "  warnings.warn(msg, PDBConstructionWarning)\n",
      "/usr/local/lib/python3.8/dist-packages/Bio/PDB/Atom.py:232: PDBConstructionWarning: Used element 'H' for Atom (name=H) with given element ''\n",
      "  warnings.warn(msg, PDBConstructionWarning)\n",
      "/usr/local/lib/python3.8/dist-packages/Bio/PDB/Atom.py:232: PDBConstructionWarning: Used element 'H' for Atom (name=HG) with given element ''\n",
      "  warnings.warn(msg, PDBConstructionWarning)\n",
      "/usr/local/lib/python3.8/dist-packages/Bio/PDB/Atom.py:232: PDBConstructionWarning: Used element 'H' for Atom (name=HD11) with given element ''\n",
      "  warnings.warn(msg, PDBConstructionWarning)\n",
      "/usr/local/lib/python3.8/dist-packages/Bio/PDB/Atom.py:232: PDBConstructionWarning: Used element 'H' for Atom (name=HD12) with given element ''\n",
      "  warnings.warn(msg, PDBConstructionWarning)\n",
      "/usr/local/lib/python3.8/dist-packages/Bio/PDB/Atom.py:232: PDBConstructionWarning: Used element 'H' for Atom (name=HD13) with given element ''\n",
      "  warnings.warn(msg, PDBConstructionWarning)\n",
      "/usr/local/lib/python3.8/dist-packages/Bio/PDB/Atom.py:232: PDBConstructionWarning: Used element 'H' for Atom (name=HD23) with given element ''\n",
      "  warnings.warn(msg, PDBConstructionWarning)\n",
      "/usr/local/lib/python3.8/dist-packages/Bio/PDB/Atom.py:232: PDBConstructionWarning: Used element 'H' for Atom (name=HD1) with given element ''\n",
      "  warnings.warn(msg, PDBConstructionWarning)\n",
      "/usr/local/lib/python3.8/dist-packages/Bio/PDB/Atom.py:232: PDBConstructionWarning: Used element 'H' for Atom (name=HE1) with given element ''\n",
      "  warnings.warn(msg, PDBConstructionWarning)\n",
      "/usr/local/lib/python3.8/dist-packages/Bio/PDB/Atom.py:232: PDBConstructionWarning: Used element 'H' for Atom (name=HH) with given element ''\n",
      "  warnings.warn(msg, PDBConstructionWarning)\n",
      "/usr/local/lib/python3.8/dist-packages/Bio/PDB/Atom.py:232: PDBConstructionWarning: Used element 'H' for Atom (name=HE2) with given element ''\n",
      "  warnings.warn(msg, PDBConstructionWarning)\n",
      "/usr/local/lib/python3.8/dist-packages/Bio/PDB/Atom.py:232: PDBConstructionWarning: Used element 'H' for Atom (name=HD2) with given element ''\n",
      "  warnings.warn(msg, PDBConstructionWarning)\n",
      "/usr/local/lib/python3.8/dist-packages/Bio/PDB/Atom.py:232: PDBConstructionWarning: Used element 'H' for Atom (name=HB) with given element ''\n",
      "  warnings.warn(msg, PDBConstructionWarning)\n",
      "/usr/local/lib/python3.8/dist-packages/Bio/PDB/Atom.py:232: PDBConstructionWarning: Used element 'H' for Atom (name=HG21) with given element ''\n",
      "  warnings.warn(msg, PDBConstructionWarning)\n",
      "/usr/local/lib/python3.8/dist-packages/Bio/PDB/Atom.py:232: PDBConstructionWarning: Used element 'H' for Atom (name=HG22) with given element ''\n",
      "  warnings.warn(msg, PDBConstructionWarning)\n",
      "/usr/local/lib/python3.8/dist-packages/Bio/PDB/Atom.py:232: PDBConstructionWarning: Used element 'H' for Atom (name=HG23) with given element ''\n",
      "  warnings.warn(msg, PDBConstructionWarning)\n",
      "/usr/local/lib/python3.8/dist-packages/Bio/PDB/Atom.py:232: PDBConstructionWarning: Used element 'H' for Atom (name=HG11) with given element ''\n",
      "  warnings.warn(msg, PDBConstructionWarning)\n",
      "/usr/local/lib/python3.8/dist-packages/Bio/PDB/Atom.py:232: PDBConstructionWarning: Used element 'H' for Atom (name=HG12) with given element ''\n",
      "  warnings.warn(msg, PDBConstructionWarning)\n",
      "/usr/local/lib/python3.8/dist-packages/Bio/PDB/Atom.py:232: PDBConstructionWarning: Used element 'H' for Atom (name=HD3) with given element ''\n",
      "  warnings.warn(msg, PDBConstructionWarning)\n",
      "/usr/local/lib/python3.8/dist-packages/Bio/PDB/Atom.py:232: PDBConstructionWarning: Used element 'H' for Atom (name=HG1) with given element ''\n",
      "  warnings.warn(msg, PDBConstructionWarning)\n",
      "/usr/local/lib/python3.8/dist-packages/Bio/PDB/Atom.py:232: PDBConstructionWarning: Used element 'H' for Atom (name=HG2) with given element ''\n",
      "  warnings.warn(msg, PDBConstructionWarning)\n",
      "/usr/local/lib/python3.8/dist-packages/Bio/PDB/Atom.py:232: PDBConstructionWarning: Used element 'H' for Atom (name=HE21) with given element ''\n",
      "  warnings.warn(msg, PDBConstructionWarning)\n",
      "/usr/local/lib/python3.8/dist-packages/Bio/PDB/Atom.py:232: PDBConstructionWarning: Used element 'H' for Atom (name=HE22) with given element ''\n",
      "  warnings.warn(msg, PDBConstructionWarning)\n",
      "/usr/local/lib/python3.8/dist-packages/Bio/PDB/Atom.py:232: PDBConstructionWarning: Used element 'H' for Atom (name=HZ2) with given element ''\n",
      "  warnings.warn(msg, PDBConstructionWarning)\n",
      "/usr/local/lib/python3.8/dist-packages/Bio/PDB/Atom.py:232: PDBConstructionWarning: Used element 'H' for Atom (name=HH2) with given element ''\n",
      "  warnings.warn(msg, PDBConstructionWarning)\n",
      "/usr/local/lib/python3.8/dist-packages/Bio/PDB/Atom.py:232: PDBConstructionWarning: Used element 'H' for Atom (name=HZ3) with given element ''\n",
      "  warnings.warn(msg, PDBConstructionWarning)\n",
      "/usr/local/lib/python3.8/dist-packages/Bio/PDB/Atom.py:232: PDBConstructionWarning: Used element 'H' for Atom (name=HE3) with given element ''\n",
      "  warnings.warn(msg, PDBConstructionWarning)\n",
      "/usr/local/lib/python3.8/dist-packages/Bio/PDB/Atom.py:232: PDBConstructionWarning: Used element 'H' for Atom (name=HZ1) with given element ''\n",
      "  warnings.warn(msg, PDBConstructionWarning)\n",
      "/usr/local/lib/python3.8/dist-packages/Bio/PDB/Atom.py:232: PDBConstructionWarning: Used element 'H' for Atom (name=HA1) with given element ''\n",
      "  warnings.warn(msg, PDBConstructionWarning)\n",
      "/usr/local/lib/python3.8/dist-packages/Bio/PDB/Atom.py:232: PDBConstructionWarning: Used element 'H' for Atom (name=HA2) with given element ''\n",
      "  warnings.warn(msg, PDBConstructionWarning)\n",
      "/usr/local/lib/python3.8/dist-packages/Bio/PDB/Atom.py:232: PDBConstructionWarning: Used element 'H' for Atom (name=HE) with given element ''\n",
      "  warnings.warn(msg, PDBConstructionWarning)\n",
      "/usr/local/lib/python3.8/dist-packages/Bio/PDB/Atom.py:232: PDBConstructionWarning: Used element 'H' for Atom (name=HH11) with given element ''\n",
      "  warnings.warn(msg, PDBConstructionWarning)\n",
      "/usr/local/lib/python3.8/dist-packages/Bio/PDB/Atom.py:232: PDBConstructionWarning: Used element 'H' for Atom (name=HH12) with given element ''\n",
      "  warnings.warn(msg, PDBConstructionWarning)\n",
      "/usr/local/lib/python3.8/dist-packages/Bio/PDB/Atom.py:232: PDBConstructionWarning: Used element 'H' for Atom (name=HH21) with given element ''\n",
      "  warnings.warn(msg, PDBConstructionWarning)\n",
      "/usr/local/lib/python3.8/dist-packages/Bio/PDB/Atom.py:232: PDBConstructionWarning: Used element 'H' for Atom (name=HH22) with given element ''\n",
      "  warnings.warn(msg, PDBConstructionWarning)\n",
      "/usr/local/lib/python3.8/dist-packages/Bio/PDB/PDBParser.py:395: PDBConstructionWarning: Ignoring unrecognized record 'TER' at line 309\n",
      "  warnings.warn(\n"
     ]
    }
   ],
   "source": [
    "nsteps = 12\n",
    "p = pdb.PDBParser()\n",
    "instruct = p.get_structure('in',pdbfile)\n",
    "resl = list(map(lambda r: sequtil.seq1(r.get_resname()),instruct.get_residues()))\n",
    "nres = len(resl)\n",
    "out='conf%d.pdb'\n",
    "\n",
    "itrn = 0\n",
    "np.random.seed(itrn + 123456789)\n",
    "\n",
    "phi = lhs(nres - 2, nsteps)\n",
    "psi = lhs(nres - 2, nsteps)\n",
    "outf = pdb.PDBIO()\n",
    "\n",
    "for s in range(nsteps):\n",
    "    first = pb.Geometry.geometry(resl[0])\n",
    "    struct = pb.initialize_res(first)\n",
    "    \n",
    "    for r in range(1,nres-1):\n",
    "        if resl[r] == 'P':\n",
    "            pb.add_residue(struct,resl[r])\n",
    "        else:\n",
    "            pb.add_residue(struct,resl[r],phi[s][r-1]*360,psi[2][r-1]*360)\n",
    "            \n",
    "    pb.add_residue(struct,resl[nres-1])\n",
    "        \n",
    "    fn = out % (itrn * nsteps + s + 1)\n",
    "    outf.set_structure(struct)\n",
    "    outf.save(fn)"
   ]
  },
  {
   "cell_type": "code",
   "execution_count": 78,
   "id": "a1f91402",
   "metadata": {
    "slideshow": {
     "slide_type": "slide"
    }
   },
   "outputs": [
    {
     "name": "stdout",
     "output_type": "stream",
     "text": [
      "-rw-r--r-- 1 1001 1002 12482 May  9 08:54 conf12.pdb\r\n",
      "-rw-r--r-- 1 1001 1002 12482 May  9 08:54 conf11.pdb\r\n",
      "-rw-r--r-- 1 1001 1002 12482 May  9 08:54 conf10.pdb\r\n",
      "-rw-r--r-- 1 1001 1002 12482 May  9 08:54 conf9.pdb\r\n",
      "-rw-r--r-- 1 1001 1002 12482 May  9 08:54 conf8.pdb\r\n",
      "-rw-r--r-- 1 1001 1002 12482 May  9 08:54 conf7.pdb\r\n",
      "-rw-r--r-- 1 1001 1002 12482 May  9 08:54 conf6.pdb\r\n",
      "-rw-r--r-- 1 1001 1002 12482 May  9 08:54 conf5.pdb\r\n",
      "-rw-r--r-- 1 1001 1002 12482 May  9 08:54 conf4.pdb\r\n",
      "-rw-r--r-- 1 1001 1002 12482 May  9 08:54 conf3.pdb\r\n",
      "-rw-r--r-- 1 1001 1002 12482 May  9 08:54 conf2.pdb\r\n",
      "-rw-r--r-- 1 1001 1002 12482 May  9 08:54 conf1.pdb\r\n",
      "ls: write error: Broken pipe\r\n"
     ]
    }
   ],
   "source": [
    "!ls -lt conf*pdb | head -12"
   ]
  },
  {
   "cell_type": "code",
   "execution_count": 16,
   "id": "509d2d2c",
   "metadata": {
    "slideshow": {
     "slide_type": "slide"
    }
   },
   "outputs": [
    {
     "data": {
      "application/vnd.jupyter.widget-view+json": {
       "model_id": "35bdd457a8e744c5bf78d5e7be5334f9",
       "version_major": 2,
       "version_minor": 0
      },
      "text/plain": [
       "NGLWidget(max_frame=11)"
      ]
     },
     "metadata": {},
     "output_type": "display_data"
    }
   ],
   "source": [
    "tr = md.load([ \"conf%d.pdb\" % i for i in range(1,nsteps+1)])\n",
    "idx=tr[0].top.select(\"name CA\")\n",
    "tr.superpose(tr[0],atom_indices=idx)\n",
    "v=nv.show_mdtraj(tr)\n",
    "#v.clear()\n",
    "v.add_representation(\"licorice\")\n",
    "v\n"
   ]
  },
  {
   "cell_type": "markdown",
   "id": "658703ef",
   "metadata": {
    "slideshow": {
     "slide_type": "slide"
    }
   },
   "source": [
    "# Spuštění programu v dalším kontejneru"
   ]
  },
  {
   "cell_type": "code",
   "execution_count": 7,
   "id": "2d86c19c",
   "metadata": {},
   "outputs": [],
   "source": [
    "base='conf1'\n",
    "gmx=f\"/work/gmx-k8s -w {pdbid}\"\n"
   ]
  },
  {
   "cell_type": "code",
   "execution_count": 19,
   "id": "d8aa60d3",
   "metadata": {},
   "outputs": [
    {
     "name": "stdout",
     "output_type": "stream",
     "text": [
      "tr: write error: Broken pipe\n",
      "tr: write error\n",
      "job.batch/gmx-zlkg80fxh created\n",
      "Using the Amber99 force field in directory amber99.ff\n",
      "\n",
      "going to rename amber99.ff/aminoacids.r2b\n",
      "\n",
      "going to rename amber99.ff/dna.r2b\n",
      "\n",
      "going to rename amber99.ff/rna.r2b\n",
      "Reading conf1.pdb...\n",
      "Read '', 153 atoms\n",
      "\n",
      "Analyzing pdb file\n",
      "Splitting chemical chains based on TER records or chain id changing.\n",
      "\n",
      "There are 1 chains and 0 blocks of water and 20 residues with 153 atoms\n",
      "\n",
      "  chain  #res #atoms\n",
      "\n",
      "  1 'A'    20    153  \n",
      "\n",
      "All occupancies are one\n",
      "\n",
      "Reading residue database... (Amber99)\n",
      "\n",
      "Processing chain 1 'A' (153 atoms, 20 residues)\n",
      "\n",
      "Identified residue ASN1 as a starting terminus.\n",
      "\n",
      "Identified residue SER20 as a ending terminus.\n",
      "\n",
      "Checking for duplicate atoms....\n",
      "\n",
      "Generating any missing hydrogen atoms and/or adding termini.\n",
      "\n",
      "Now there are 20 residues with 304 atoms\n",
      "\n",
      "Making bonds...\n",
      "\n",
      "Number of bonds was 311, now 310\n",
      "\n",
      "Generating angles, dihedrals and pairs...\n",
      "\n",
      "Making cmap torsions...\n",
      "\n",
      "There are  843 dihedrals,   61 impropers,  565 angles\n",
      "           812 pairs,      310 bonds and     0 virtual sites\n",
      "\n",
      "Total mass 2170.450 a.m.u.\n",
      "\n",
      "Total charge 1.000 e\n",
      "\n",
      "Writing topology\n",
      "\n",
      "Writing coordinate file...\n",
      "\n",
      "\t\t--------- PLEASE NOTE ------------\n",
      "\n",
      "You have successfully generated a topology from: conf1.pdb.\n",
      "\n",
      "The Amber99 force field and the spce water model are used.\n",
      "\n",
      "\t\t--------- ETON ESAELP ------------\n",
      "                  :-) GROMACS - gmx pdb2gmx, 2021-MODIFIED (-:\n",
      "\n",
      "                            GROMACS is written by:\n",
      "     Andrey Alekseenko              Emile Apol              Rossen Apostolov     \n",
      "         Paul Bauer           Herman J.C. Berendsen           Par Bjelkmar       \n",
      "       Christian Blau           Viacheslav Bolnykh             Kevin Boyd        \n",
      "     Aldert van Buuren           Rudi van Drunen             Anton Feenstra      \n",
      "    Gilles Gouaillardet             Alan Gray               Gerrit Groenhof      \n",
      "       Anca Hamuraru            Vincent Hindriksen          M. Eric Irrgang      \n",
      "      Aleksei Iupinov           Christoph Junghans             Joe Jordan        \n",
      "    Dimitrios Karkoulis            Peter Kasson                Jiri Kraus        \n",
      "      Carsten Kutzner              Per Larsson              Justin A. Lemkul     \n",
      "       Viveca Lindahl            Magnus Lundborg             Erik Marklund       \n",
      "        Pascal Merz             Pieter Meulenhoff            Teemu Murtola       \n",
      "        Szilard Pall               Sander Pronk              Roland Schulz       \n",
      "       Michael Shirts            Alexey Shvetsov             Alfons Sijbers      \n",
      "       Peter Tieleman              Jon Vincent              Teemu Virolainen     \n",
      "     Christian Wennberg            Maarten Wolf              Artem Zhmurov       \n",
      "                           and the project leaders:\n",
      "        Mark Abraham, Berk Hess, Erik Lindahl, and David van der Spoel\n",
      "\n",
      "Copyright (c) 1991-2000, University of Groningen, The Netherlands.\n",
      "Copyright (c) 2001-2019, The GROMACS development team at\n",
      "Uppsala University, Stockholm University and\n",
      "the Royal Institute of Technology, Sweden.\n",
      "check out http://www.gromacs.org for more information.\n",
      "\n",
      "GROMACS is free software; you can redistribute it and/or modify it\n",
      "under the terms of the GNU Lesser General Public License\n",
      "as published by the Free Software Foundation; either version 2.1\n",
      "of the License, or (at your option) any later version.\n",
      "\n",
      "GROMACS:      gmx pdb2gmx, version 2021-MODIFIED\n",
      "Executable:   /gromacs/AVX2_256_ts/bin/gmx\n",
      "Data prefix:  /gromacs/AVX2_256_ts\n",
      "Working dir:  /work/1L2Y\n",
      "Command line:\n",
      "  gmx pdb2gmx -f conf1.pdb -o conf1.gro -p conf1 -i conf1 -water spce -ff amber99 -ignh\n",
      "\n",
      "Opening force field file /gromacs/AVX2_256_ts/share/gromacs/top/amber99.ff/aminoacids.r2b\n",
      "Opening force field file /gromacs/AVX2_256_ts/share/gromacs/top/amber99.ff/dna.r2b\n",
      "Opening force field file /gromacs/AVX2_256_ts/share/gromacs/top/amber99.ff/rna.r2b\n",
      "All occupancies are one\n",
      "Opening force field file /gromacs/AVX2_256_ts/share/gromacs/top/amber99.ff/atomtypes.atp\n",
      "Opening force field file /gromacs/AVX2_256_ts/share/gromacs/top/amber99.ff/aminoacids.rtp\n",
      "Opening force field file /gromacs/AVX2_256_ts/share/gromacs/top/amber99.ff/dna.rtp\n",
      "Opening force field file /gromacs/AVX2_256_ts/share/gromacs/top/amber99.ff/rna.rtp\n",
      "Opening force field file /gromacs/AVX2_256_ts/share/gromacs/top/amber99.ff/aminoacids.hdb\n",
      "Opening force field file /gromacs/AVX2_256_ts/share/gromacs/top/amber99.ff/dna.hdb\n",
      "Opening force field file /gromacs/AVX2_256_ts/share/gromacs/top/amber99.ff/rna.hdb\n",
      "Opening force field file /gromacs/AVX2_256_ts/share/gromacs/top/amber99.ff/aminoacids.n.tdb\n",
      "Opening force field file /gromacs/AVX2_256_ts/share/gromacs/top/amber99.ff/aminoacids.c.tdb\n",
      "\n",
      "Back Off! I just backed up conf1.top to ./#conf1.top.2#\n",
      "8 out of 8 lines of specbond.dat converted successfully\n",
      "Opening force field file /gromacs/AVX2_256_ts/share/gromacs/top/amber99.ff/aminoacids.arn\n",
      "Opening force field file /gromacs/AVX2_256_ts/share/gromacs/top/amber99.ff/dna.arn\n",
      "Opening force field file /gromacs/AVX2_256_ts/share/gromacs/top/amber99.ff/rna.arn\n",
      "Before cleaning: 818 pairs\n",
      "Before cleaning: 843 dihedrals\n",
      "Keeping all generated dihedrals\n",
      "\n",
      "Back Off! I just backed up conf1.itp to ./#conf1.itp.2#\n",
      "\n",
      "Back Off! I just backed up conf1.gro to ./#conf1.gro.2#\n",
      "\n",
      "GROMACS reminds you: \"I am rarely happier than when spending an entire day programming my computer to perform automatically a task that it would otherwise take me a good ten seconds to do by hand.\" (Douglas Adams)\n",
      "\n",
      "job.batch \"gmx-zlkg80fxh\" deleted\n",
      "tr: write error: Broken pipe\n",
      "tr: write error\n",
      "job.batch/gmx-bv0lt7osc created\n",
      "Note that major changes are planned in future for editconf, to improve usability and utility.\n",
      "Read 304 atoms\n",
      "Volume: 10.3096 nm^3, corresponds to roughly 4600 electrons\n",
      "No velocities found\n",
      "    system size :  1.624  1.999  3.175 (nm)\n",
      "    diameter    :  3.243               (nm)\n",
      "    center      :  0.248  0.237 -1.004 (nm)\n",
      "    box vectors :  1.624  1.999  3.175 (nm)\n",
      "    box angles  :  90.00  90.00  90.00 (degrees)\n",
      "    box volume  :  10.31               (nm^3)\n",
      "    shift       :  2.873  2.885  4.126 (nm)\n",
      "new center      :  3.121  3.121  3.121 (nm)\n",
      "new box vectors :  6.243  6.243  6.243 (nm)\n",
      "new box angles  :  90.00  90.00  90.00 (degrees)\n",
      "new box volume  : 243.29               (nm^3)\n",
      "                 :-) GROMACS - gmx editconf, 2021-MODIFIED (-:\n",
      "\n",
      "                            GROMACS is written by:\n",
      "     Andrey Alekseenko              Emile Apol              Rossen Apostolov     \n",
      "         Paul Bauer           Herman J.C. Berendsen           Par Bjelkmar       \n",
      "       Christian Blau           Viacheslav Bolnykh             Kevin Boyd        \n",
      "     Aldert van Buuren           Rudi van Drunen             Anton Feenstra      \n",
      "    Gilles Gouaillardet             Alan Gray               Gerrit Groenhof      \n",
      "       Anca Hamuraru            Vincent Hindriksen          M. Eric Irrgang      \n",
      "      Aleksei Iupinov           Christoph Junghans             Joe Jordan        \n",
      "    Dimitrios Karkoulis            Peter Kasson                Jiri Kraus        \n",
      "      Carsten Kutzner              Per Larsson              Justin A. Lemkul     \n",
      "       Viveca Lindahl            Magnus Lundborg             Erik Marklund       \n",
      "        Pascal Merz             Pieter Meulenhoff            Teemu Murtola       \n",
      "        Szilard Pall               Sander Pronk              Roland Schulz       \n",
      "       Michael Shirts            Alexey Shvetsov             Alfons Sijbers      \n",
      "       Peter Tieleman              Jon Vincent              Teemu Virolainen     \n",
      "     Christian Wennberg            Maarten Wolf              Artem Zhmurov       \n",
      "                           and the project leaders:\n",
      "        Mark Abraham, Berk Hess, Erik Lindahl, and David van der Spoel\n",
      "\n",
      "Copyright (c) 1991-2000, University of Groningen, The Netherlands.\n",
      "Copyright (c) 2001-2019, The GROMACS development team at\n",
      "Uppsala University, Stockholm University and\n",
      "the Royal Institute of Technology, Sweden.\n",
      "check out http://www.gromacs.org for more information.\n",
      "\n",
      "GROMACS is free software; you can redistribute it and/or modify it\n",
      "under the terms of the GNU Lesser General Public License\n",
      "as published by the Free Software Foundation; either version 2.1\n",
      "of the License, or (at your option) any later version.\n",
      "\n",
      "GROMACS:      gmx editconf, version 2021-MODIFIED\n",
      "Executable:   /gromacs/AVX2_256_ts/bin/gmx\n",
      "Data prefix:  /gromacs/AVX2_256_ts\n",
      "Working dir:  /work/1L2Y\n",
      "Command line:\n",
      "  gmx editconf -f conf1.gro -o conf1-box.gro -d 1.5 -bt cubic\n",
      "\n",
      "\n",
      "Back Off! I just backed up conf1-box.gro to ./#conf1-box.gro.2#\n",
      "\n",
      "GROMACS reminds you: \"Stop Drinking My Beer !\" (The Amps)\n",
      "\n"
     ]
    },
    {
     "name": "stdout",
     "output_type": "stream",
     "text": [
      "job.batch \"gmx-bv0lt7osc\" deleted\n",
      "tr: write error: Broken pipe\n",
      "tr: write error\n",
      "job.batch/gmx-kh42p3216 created\n",
      "Setting the LD random seed to -59244695\n",
      "\n",
      "Generated 2145 of the 2145 non-bonded parameter combinations\n",
      "\n",
      "Generated 2145 of the 2145 1-4 parameter combinations\n",
      "\n",
      "Excluding 3 bonded neighbours molecule type 'Protein_chain_A'\n",
      "\n",
      "++++ PLEASE READ AND CITE THE FOLLOWING REFERENCE ++++\n",
      "J. S. Hub, B. L. de Groot, H. Grubmueller, G. Groenhof\n",
      "Quantifying Artifacts in Ewald Simulations of Inhomogeneous Systems with a Net\n",
      "Charge\n",
      "J. Chem. Theory Comput. 10 (2014) pp. 381-393\n",
      "-------- -------- --- Thank You --- -------- --------\n",
      "\n",
      "Analysing residue names:\n",
      "There are:    20    Protein residues\n",
      "Analysing Protein...\n",
      "Calculating fourier grid dimensions for X Y Z\n",
      "Using a fourier grid of 56x56x56, spacing 0.111 0.111 0.111\n",
      "\n",
      "Estimate for the relative computational load of the PME mesh part: 0.96\n",
      "\n",
      "This run will generate roughly 2 Mb of data\n",
      "                  :-) GROMACS - gmx grompp, 2021-MODIFIED (-:\n",
      "\n",
      "                            GROMACS is written by:\n",
      "     Andrey Alekseenko              Emile Apol              Rossen Apostolov     \n",
      "         Paul Bauer           Herman J.C. Berendsen           Par Bjelkmar       \n",
      "       Christian Blau           Viacheslav Bolnykh             Kevin Boyd        \n",
      "     Aldert van Buuren           Rudi van Drunen             Anton Feenstra      \n",
      "    Gilles Gouaillardet             Alan Gray               Gerrit Groenhof      \n",
      "       Anca Hamuraru            Vincent Hindriksen          M. Eric Irrgang      \n",
      "      Aleksei Iupinov           Christoph Junghans             Joe Jordan        \n",
      "    Dimitrios Karkoulis            Peter Kasson                Jiri Kraus        \n",
      "      Carsten Kutzner              Per Larsson              Justin A. Lemkul     \n",
      "       Viveca Lindahl            Magnus Lundborg             Erik Marklund       \n",
      "        Pascal Merz             Pieter Meulenhoff            Teemu Murtola       \n",
      "        Szilard Pall               Sander Pronk              Roland Schulz       \n",
      "       Michael Shirts            Alexey Shvetsov             Alfons Sijbers      \n",
      "       Peter Tieleman              Jon Vincent              Teemu Virolainen     \n",
      "     Christian Wennberg            Maarten Wolf              Artem Zhmurov       \n",
      "                           and the project leaders:\n",
      "        Mark Abraham, Berk Hess, Erik Lindahl, and David van der Spoel\n",
      "\n",
      "Copyright (c) 1991-2000, University of Groningen, The Netherlands.\n",
      "Copyright (c) 2001-2019, The GROMACS development team at\n",
      "Uppsala University, Stockholm University and\n",
      "the Royal Institute of Technology, Sweden.\n",
      "check out http://www.gromacs.org for more information.\n",
      "\n",
      "GROMACS is free software; you can redistribute it and/or modify it\n",
      "under the terms of the GNU Lesser General Public License\n",
      "as published by the Free Software Foundation; either version 2.1\n",
      "of the License, or (at your option) any later version.\n",
      "\n",
      "GROMACS:      gmx grompp, version 2021-MODIFIED\n",
      "Executable:   /gromacs/AVX2_256_ts/bin/gmx\n",
      "Data prefix:  /gromacs/AVX2_256_ts\n",
      "Working dir:  /work/1L2Y\n",
      "Command line:\n",
      "  gmx grompp -f minim.mdp -c conf1-box.gro -p conf1.top -o conf1-min.tpr -po conf1-min.mdp -maxwarn 1\n",
      "\n",
      "Ignoring obsolete mdp entry 'ns_type'\n",
      "\n",
      "NOTE 1 [file minim.mdp]:\n",
      "  With Verlet lists the optimal nstlist is >= 10, with GPUs >= 20. Note\n",
      "  that with the Verlet scheme, nstlist has no effect on the accuracy of\n",
      "  your simulation.\n",
      "\n",
      "Generating 1-4 interactions: fudge = 0.5\n",
      "\n",
      "NOTE 2 [file conf1.top, line 2984]:\n",
      "  System has non-zero total charge: 1.000000\n",
      "  Total charge should normally be an integer. See\n",
      "  http://www.gromacs.org/Documentation/Floating_Point_Arithmetic\n",
      "  for discussion on how close it should be to an integer.\n",
      "  \n",
      "\n",
      "\n",
      "\n",
      "WARNING 1 [file conf1.top, line 2984]:\n",
      "  You are using Ewald electrostatics in a system with net charge. This can\n",
      "  lead to severe artifacts, such as ions moving into regions with low\n",
      "  dielectric, due to the uniform background charge. We suggest to\n",
      "  neutralize your system with counter ions, possibly in combination with a\n",
      "  physiological salt concentration.\n",
      "\n",
      "Number of degrees of freedom in T-Coupling group rest is 909.00\n",
      "\n",
      "NOTE 3 [file minim.mdp]:\n",
      "  The optimal PME mesh load for parallel simulations is below 0.5\n",
      "  and for highly parallel simulations between 0.25 and 0.33,\n",
      "  for higher performance, increase the cut-off and the PME grid spacing.\n",
      "\n",
      "\n",
      "\n",
      "There were 3 notes\n",
      "\n",
      "There was 1 warning\n",
      "\n",
      "Back Off! I just backed up conf1-min.tpr to ./#conf1-min.tpr.2#\n",
      "\n",
      "GROMACS reminds you: \"Youth is wasted on the young\" (The Smashing Pumpkins)\n",
      "\n",
      "job.batch \"gmx-kh42p3216\" deleted\n"
     ]
    }
   ],
   "source": [
    "!{gmx} pdb2gmx -f {base}.pdb -o {base}.gro -p {base} -i {base} -water spce -ff amber99 -ignh\n",
    "!{gmx} editconf -f {base}.gro -o {base}-box.gro -d 1.5 -bt cubic\n",
    "!{gmx} grompp -f minim.mdp -c {base}-box.gro -p {base}.top -o {base}-min.tpr -po {base}-min.mdp -maxwarn 1"
   ]
  },
  {
   "cell_type": "code",
   "execution_count": 20,
   "id": "7ccf94fa",
   "metadata": {},
   "outputs": [
    {
     "name": "stdout",
     "output_type": "stream",
     "text": [
      "tr: write error: Broken pipe\n",
      "tr: write error\n",
      "job.batch/gmx-iemgph3ys created\n",
      "                   :-) GROMACS - gmx mdrun, 2021-MODIFIED (-:\n",
      "\n",
      "                            GROMACS is written by:\n",
      "     Andrey Alekseenko              Emile Apol              Rossen Apostolov     \n",
      "         Paul Bauer           Herman J.C. Berendsen           Par Bjelkmar       \n",
      "       Christian Blau           Viacheslav Bolnykh             Kevin Boyd        \n",
      "     Aldert van Buuren           Rudi van Drunen             Anton Feenstra      \n",
      "    Gilles Gouaillardet             Alan Gray               Gerrit Groenhof      \n",
      "       Anca Hamuraru            Vincent Hindriksen          M. Eric Irrgang      \n",
      "      Aleksei Iupinov           Christoph Junghans             Joe Jordan        \n",
      "    Dimitrios Karkoulis            Peter Kasson                Jiri Kraus        \n",
      "      Carsten Kutzner              Per Larsson              Justin A. Lemkul     \n",
      "       Viveca Lindahl            Magnus Lundborg             Erik Marklund       \n",
      "        Pascal Merz             Pieter Meulenhoff            Teemu Murtola       \n",
      "        Szilard Pall               Sander Pronk              Roland Schulz       \n",
      "       Michael Shirts            Alexey Shvetsov             Alfons Sijbers      \n",
      "       Peter Tieleman              Jon Vincent              Teemu Virolainen     \n",
      "     Christian Wennberg            Maarten Wolf              Artem Zhmurov       \n",
      "                           and the project leaders:\n",
      "        Mark Abraham, Berk Hess, Erik Lindahl, and David van der Spoel\n",
      "\n",
      "Copyright (c) 1991-2000, University of Groningen, The Netherlands.\n",
      "Copyright (c) 2001-2019, The GROMACS development team at\n",
      "Uppsala University, Stockholm University and\n",
      "the Royal Institute of Technology, Sweden.\n",
      "check out http://www.gromacs.org for more information.\n",
      "\n",
      "GROMACS is free software; you can redistribute it and/or modify it\n",
      "under the terms of the GNU Lesser General Public License\n",
      "as published by the Free Software Foundation; either version 2.1\n",
      "of the License, or (at your option) any later version.\n",
      "\n",
      "GROMACS:      gmx mdrun, version 2021-MODIFIED\n",
      "Executable:   /gromacs/AVX2_256_ts/bin/gmx\n",
      "Data prefix:  /gromacs/AVX2_256_ts\n",
      "Working dir:  /work/1L2Y\n",
      "Command line:\n",
      "  gmx mdrun -v -deffnm conf1-min -ntomp 1 -nb cpu -pme cpu\n",
      "\n",
      "\n",
      "Back Off! I just backed up conf1-min.log to ./#conf1-min.log.5#\n",
      "Reading file conf1-min.tpr, VERSION 2021-MODIFIED (single precision)\n",
      "Using 1 MPI process\n",
      "Using 1 OpenMP thread \n",
      "\n",
      "\n",
      "NOTE: Thread affinity was not set.\n",
      "\n",
      "Back Off! I just backed up conf1-min.trr to ./#conf1-min.trr.5#\n",
      "\n",
      "Back Off! I just backed up conf1-min.edr to ./#conf1-min.edr.5#\n",
      "\n",
      "Steepest Descents:\n",
      "   Tolerance (Fmax)   =  5.00000e+02\n",
      "   Number of steps    =          500\n",
      "Step=    0, Dmax= 5.0e-02 nm, Epot=  3.83696e+12 Fmax= 1.80808e+15, atom= 266\n",
      "Step=    1, Dmax= 5.0e-02 nm, Epot=  1.41527e+09 Fmax= 2.54643e+11, atom= 285\n",
      "Step=    2, Dmax= 6.0e-02 nm, Epot=  1.06758e+08 Fmax= 4.22971e+09, atom= 261\n",
      "Step=    3, Dmax= 7.2e-02 nm, Epot=  2.61636e+07 Fmax= 3.69136e+09, atom= 283\n",
      "Step=    4, Dmax= 8.6e-02 nm, Epot=  4.04226e+06 Fmax= 1.07952e+08, atom= 174\n",
      "Step=    5, Dmax= 1.0e-01 nm, Epot=  1.07869e+06 Fmax= 9.32804e+07, atom= 262\n",
      "Step=    7, Dmax= 6.2e-02 nm, Epot=  7.23902e+05 Fmax= 3.10258e+07, atom= 265\n",
      "Step=    8, Dmax= 7.5e-02 nm, Epot=  2.17903e+05 Fmax= 3.49206e+06, atom= 183\n",
      "Step=    9, Dmax= 9.0e-02 nm, Epot=  6.31431e+04 Fmax= 1.77782e+05, atom= 284\n",
      "Step=   11, Dmax= 5.4e-02 nm, Epot=  3.88787e+04 Fmax= 2.00562e+05, atom= 176\n",
      "Step=   12, Dmax= 6.4e-02 nm, Epot=  2.86170e+04 Fmax= 9.53572e+04, atom= 263\n",
      "Step=   14, Dmax= 3.9e-02 nm, Epot=  2.60924e+04 Fmax= 6.59410e+04, atom= 185\n",
      "Step=   15, Dmax= 4.6e-02 nm, Epot=  2.39405e+04 Fmax= 1.54666e+05, atom= 263\n",
      "Step=   16, Dmax= 5.6e-02 nm, Epot=  2.35623e+04 Fmax= 8.65901e+04, atom= 263\n",
      "Step=   18, Dmax= 3.3e-02 nm, Epot=  2.01296e+04 Fmax= 2.47222e+04, atom= 185\n",
      "Step=   20, Dmax= 2.0e-02 nm, Epot=  1.87461e+04 Fmax= 3.25967e+04, atom= 263\n",
      "Step=   22, Dmax= 1.2e-02 nm, Epot=  1.79836e+04 Fmax= 1.71707e+04, atom= 185\n",
      "Step=   23, Dmax= 1.4e-02 nm, Epot=  1.73889e+04 Fmax= 3.77389e+04, atom= 263\n",
      "Step=   24, Dmax= 1.7e-02 nm, Epot=  1.70185e+04 Fmax= 3.31886e+04, atom= 184\n",
      "Step=   26, Dmax= 1.0e-02 nm, Epot=  1.65009e+04 Fmax= 2.31052e+04, atom= 184\n",
      "Step=   27, Dmax= 1.2e-02 nm, Epot=  1.62666e+04 Fmax= 4.70358e+04, atom= 261\n",
      "Step=   28, Dmax= 1.5e-02 nm, Epot=  1.60282e+04 Fmax= 2.92235e+04, atom= 184\n",
      "Step=   29, Dmax= 1.8e-02 nm, Epot=  1.59549e+04 Fmax= 7.75106e+04, atom= 261\n",
      "Step=   30, Dmax= 2.2e-02 nm, Epot=  1.56458e+04 Fmax= 3.50420e+04, atom= 261\n",
      "Step=   32, Dmax= 1.3e-02 nm, Epot=  1.49566e+04 Fmax= 1.15182e+04, atom= 261\n",
      "Step=   33, Dmax= 1.6e-02 nm, Epot=  1.45379e+04 Fmax= 3.00398e+04, atom= 261\n",
      "Step=   35, Dmax= 9.3e-03 nm, Epot=  1.40843e+04 Fmax= 1.70725e+04, atom= 184\n",
      "Step=   36, Dmax= 1.1e-02 nm, Epot=  1.39067e+04 Fmax= 3.04514e+04, atom= 184\n",
      "Step=   37, Dmax= 1.3e-02 nm, Epot=  1.36569e+04 Fmax= 2.14183e+04, atom= 263\n",
      "Step=   39, Dmax= 8.0e-03 nm, Epot=  1.33591e+04 Fmax= 1.11870e+04, atom= 261\n",
      "Step=   40, Dmax= 9.7e-03 nm, Epot=  1.31749e+04 Fmax= 3.50683e+04, atom= 261\n",
      "Step=   41, Dmax= 1.2e-02 nm, Epot=  1.29037e+04 Fmax= 1.91875e+04, atom= 261\n",
      "Step=   42, Dmax= 1.4e-02 nm, Epot=  1.28166e+04 Fmax= 4.93357e+04, atom= 261\n",
      "Step=   43, Dmax= 1.7e-02 nm, Epot=  1.25820e+04 Fmax= 2.56286e+04, atom= 261\n",
      "Step=   45, Dmax= 1.0e-02 nm, Epot=  1.22295e+04 Fmax= 7.94848e+03, atom= 261\n",
      "Step=   46, Dmax= 1.2e-02 nm, Epot=  1.18680e+04 Fmax= 2.36049e+04, atom= 261\n",
      "Step=   47, Dmax= 1.4e-02 nm, Epot=  1.16639e+04 Fmax= 3.15376e+04, atom= 261\n",
      "Step=   48, Dmax= 1.7e-02 nm, Epot=  1.16469e+04 Fmax= 2.86159e+04, atom= 261\n",
      "Step=   49, Dmax= 2.1e-02 nm, Epot=  1.15587e+04 Fmax= 5.30872e+04, atom= 261\n",
      "Step=   50, Dmax= 2.5e-02 nm, Epot=  1.15463e+04 Fmax= 3.44179e+04, atom= 261\n",
      "Step=   52, Dmax= 1.5e-02 nm, Epot=  1.08702e+04 Fmax= 6.67410e+03, atom= 263\n",
      "Step=   53, Dmax= 1.8e-02 nm, Epot=  1.06810e+04 Fmax= 3.17225e+04, atom= 263\n",
      "Step=   54, Dmax= 2.2e-02 nm, Epot=  1.01890e+04 Fmax= 1.86677e+04, atom= 263\n",
      "Step=   56, Dmax= 1.3e-02 nm, Epot=  1.00210e+04 Fmax= 1.56911e+04, atom= 263\n",
      "Step=   57, Dmax= 1.6e-02 nm, Epot=  9.94487e+03 Fmax= 2.92311e+04, atom= 263\n",
      "Step=   58, Dmax= 1.9e-02 nm, Epot=  9.78169e+03 Fmax= 2.07409e+04, atom= 263\n",
      "Step=   60, Dmax= 1.1e-02 nm, Epot=  9.51216e+03 Fmax= 3.70239e+03, atom= 263\n",
      "Step=   61, Dmax= 1.3e-02 nm, Epot=  9.13418e+03 Fmax= 2.39684e+04, atom= 263\n",
      "Step=   62, Dmax= 1.6e-02 nm, Epot=  8.84477e+03 Fmax= 1.26947e+04, atom= 263\n",
      "Step=   64, Dmax= 9.6e-03 nm, Epot=  8.74412e+03 Fmax= 1.17602e+04, atom= 263\n",
      "Step=   65, Dmax= 1.2e-02 nm, Epot=  8.65582e+03 Fmax= 1.84520e+04, atom= 263\n",
      "Step=   66, Dmax= 1.4e-02 nm, Epot=  8.58376e+03 Fmax= 1.62322e+04, atom= 263\n",
      "Step=   67, Dmax= 1.7e-02 nm, Epot=  8.57758e+03 Fmax= 2.80626e+04, atom= 263\n",
      "Step=   68, Dmax= 2.0e-02 nm, Epot=  8.53902e+03 Fmax= 2.15668e+04, atom= 263\n",
      "Step=   70, Dmax= 1.2e-02 nm, Epot=  8.15562e+03 Fmax= 2.92300e+03, atom= 186\n",
      "Step=   71, Dmax= 1.4e-02 nm, Epot=  7.99288e+03 Fmax= 2.14065e+04, atom= 263\n",
      "Step=   72, Dmax= 1.7e-02 nm, Epot=  7.60735e+03 Fmax= 1.74320e+04, atom= 263\n",
      "Step=   74, Dmax= 1.0e-02 nm, Epot=  7.45915e+03 Fmax= 7.93306e+03, atom= 263\n",
      "Step=   76, Dmax= 6.2e-03 nm, Epot=  7.35959e+03 Fmax= 5.73138e+03, atom= 263\n",
      "Step=   77, Dmax= 7.5e-03 nm, Epot=  7.27654e+03 Fmax= 1.01305e+04, atom= 263\n",
      "Step=   78, Dmax= 9.0e-03 nm, Epot=  7.17022e+03 Fmax= 9.17896e+03, atom= 263\n",
      "Step=   79, Dmax= 1.1e-02 nm, Epot=  7.12604e+03 Fmax= 1.30120e+04, atom= 263\n",
      "Step=   80, Dmax= 1.3e-02 nm, Epot=  7.02222e+03 Fmax= 1.46138e+04, atom= 263\n",
      "Step=   81, Dmax= 1.5e-02 nm, Epot=  7.01351e+03 Fmax= 1.66379e+04, atom= 263\n",
      "Step=   82, Dmax= 1.9e-02 nm, Epot=  6.94812e+03 Fmax= 2.34422e+04, atom= 263\n",
      "Step=   84, Dmax= 1.1e-02 nm, Epot=  6.70208e+03 Fmax= 3.71470e+03, atom= 263\n",
      "Step=   85, Dmax= 1.3e-02 nm, Epot=  6.68623e+03 Fmax= 2.96430e+04, atom= 263\n",
      "Step=   86, Dmax= 1.6e-02 nm, Epot=  6.38903e+03 Fmax= 8.82280e+03, atom= 263\n",
      "Step=   88, Dmax= 9.6e-03 nm, Epot=  6.30440e+03 Fmax= 1.00436e+04, atom= 263\n",
      "Step=   89, Dmax= 1.2e-02 nm, Epot=  6.24868e+03 Fmax= 1.17113e+04, atom= 263\n",
      "Step=   90, Dmax= 1.4e-02 nm, Epot=  6.17936e+03 Fmax= 1.56091e+04, atom= 263\n",
      "Step=   91, Dmax= 1.7e-02 nm, Epot=  6.13832e+03 Fmax= 1.53092e+04, atom= 263\n",
      "Step=   92, Dmax= 2.0e-02 nm, Epot=  6.12495e+03 Fmax= 2.45527e+04, atom= 263\n",
      "Step=   93, Dmax= 2.4e-02 nm, Epot=  6.07475e+03 Fmax= 1.97831e+04, atom= 263\n",
      "Step=   95, Dmax= 1.4e-02 nm, Epot=  5.79183e+03 Fmax= 3.20525e+03, atom= 263\n",
      "Step=   96, Dmax= 1.7e-02 nm, Epot=  5.78412e+03 Fmax= 2.42920e+04, atom= 263\n",
      "Step=   97, Dmax= 2.1e-02 nm, Epot=  5.41400e+03 Fmax= 1.13930e+04, atom= 263\n",
      "Step=   99, Dmax= 1.2e-02 nm, Epot=  5.34817e+03 Fmax= 1.02220e+04, atom= 263\n",
      "Step=  100, Dmax= 1.5e-02 nm, Epot=  5.32062e+03 Fmax= 1.73636e+04, atom= 263\n",
      "Step=  101, Dmax= 1.8e-02 nm, Epot=  5.24398e+03 Fmax= 1.37114e+04, atom= 263\n",
      "Step=  103, Dmax= 1.1e-02 nm, Epot=  5.10145e+03 Fmax= 3.51425e+03, atom= 263\n",
      "Step=  104, Dmax= 1.3e-02 nm, Epot=  5.03513e+03 Fmax= 1.64425e+04, atom= 263\n",
      "Step=  105, Dmax= 1.5e-02 nm, Epot=  4.86730e+03 Fmax= 8.98351e+03, atom= 263\n",
      "Step=  107, Dmax= 9.3e-03 nm, Epot=  4.79805e+03 Fmax= 6.55002e+03, atom= 263\n",
      "Step=  108, Dmax= 1.1e-02 nm, Epot=  4.75589e+03 Fmax= 1.28783e+04, atom= 263\n",
      "Step=  109, Dmax= 1.3e-02 nm, Epot=  4.67829e+03 Fmax= 9.35182e+03, atom= 263\n",
      "Step=  111, Dmax= 8.0e-03 nm, Epot=  4.59395e+03 Fmax= 3.42154e+03, atom= 263\n",
      "Step=  112, Dmax= 9.6e-03 nm, Epot=  4.51775e+03 Fmax= 1.12655e+04, atom= 263\n",
      "Step=  113, Dmax= 1.2e-02 nm, Epot=  4.42425e+03 Fmax= 7.27722e+03, atom= 263\n",
      "Step=  114, Dmax= 1.4e-02 nm, Epot=  4.41800e+03 Fmax= 1.38849e+04, atom= 263\n",
      "Step=  115, Dmax= 1.7e-02 nm, Epot=  4.33085e+03 Fmax= 1.27759e+04, atom= 263\n",
      "Step=  117, Dmax= 1.0e-02 nm, Epot=  4.22884e+03 Fmax= 3.73357e+03, atom= 263\n",
      "Step=  118, Dmax= 1.2e-02 nm, Epot=  4.20089e+03 Fmax= 1.66647e+04, atom= 263\n",
      "Step=  119, Dmax= 1.4e-02 nm, Epot=  4.07214e+03 Fmax= 6.90892e+03, atom= 263\n",
      "Step=  121, Dmax= 8.6e-03 nm, Epot=  4.01625e+03 Fmax= 6.51975e+03, atom= 263\n",
      "Step=  122, Dmax= 1.0e-02 nm, Epot=  3.97883e+03 Fmax= 9.18706e+03, atom= 263\n",
      "Step=  123, Dmax= 1.2e-02 nm, Epot=  3.93058e+03 Fmax= 1.02493e+04, atom= 263\n",
      "Step=  124, Dmax= 1.5e-02 nm, Epot=  3.90950e+03 Fmax= 1.22316e+04, atom= 263\n",
      "Step=  125, Dmax= 1.8e-02 nm, Epot=  3.88906e+03 Fmax= 1.57899e+04, atom= 263\n",
      "Step=  126, Dmax= 2.1e-02 nm, Epot=  3.87910e+03 Fmax= 1.64192e+04, atom= 263\n",
      "Step=  128, Dmax= 1.3e-02 nm, Epot=  3.69921e+03 Fmax= 2.24107e+03, atom= 263\n",
      "Step=  130, Dmax= 7.7e-03 nm, Epot=  3.62831e+03 Fmax= 8.91286e+03, atom= 263\n",
      "Step=  131, Dmax= 9.3e-03 nm, Epot=  3.55980e+03 Fmax= 5.15099e+03, atom= 263\n",
      "Step=  132, Dmax= 1.1e-02 nm, Epot=  3.54987e+03 Fmax= 1.09624e+04, atom= 263\n",
      "Step=  133, Dmax= 1.3e-02 nm, Epot=  3.48510e+03 Fmax= 9.02739e+03, atom= 263\n",
      "Step=  135, Dmax= 8.0e-03 nm, Epot=  3.42013e+03 Fmax= 3.08601e+03, atom= 263\n",
      "Step=  136, Dmax= 9.6e-03 nm, Epot=  3.39634e+03 Fmax= 1.16945e+04, atom= 263\n",
      "Step=  137, Dmax= 1.2e-02 nm, Epot=  3.31584e+03 Fmax= 5.56458e+03, atom= 263\n",
      "Step=  139, Dmax= 6.9e-03 nm, Epot=  3.27614e+03 Fmax= 4.63864e+03, atom= 263\n",
      "Step=  140, Dmax= 8.3e-03 nm, Epot=  3.24929e+03 Fmax= 7.32671e+03, atom= 263\n",
      "Step=  141, Dmax= 9.9e-03 nm, Epot=  3.21275e+03 Fmax= 7.36828e+03, atom= 263\n",
      "Step=  142, Dmax= 1.2e-02 nm, Epot=  3.20073e+03 Fmax= 9.80256e+03, atom= 263\n",
      "Step=  143, Dmax= 1.4e-02 nm, Epot=  3.17829e+03 Fmax= 1.13179e+04, atom= 263\n",
      "Step=  145, Dmax= 8.6e-03 nm, Epot=  3.09028e+03 Fmax= 1.48633e+03, atom= 263\n",
      "Step=  146, Dmax= 1.0e-02 nm, Epot=  3.03606e+03 Fmax= 1.38873e+04, atom= 263\n",
      "Step=  147, Dmax= 1.2e-02 nm, Epot=  2.92477e+03 Fmax= 4.23616e+03, atom= 263\n",
      "Step=  149, Dmax= 7.4e-03 nm, Epot=  2.90330e+03 Fmax= 6.56830e+03, atom= 263\n",
      "Step=  150, Dmax= 8.9e-03 nm, Epot=  2.87471e+03 Fmax= 6.04921e+03, atom= 263\n",
      "Step=  151, Dmax= 1.1e-02 nm, Epot=  2.87011e+03 Fmax= 9.43650e+03, atom= 263\n",
      "Step=  152, Dmax= 1.3e-02 nm, Epot=  2.84070e+03 Fmax= 8.68954e+03, atom= 263\n",
      "Step=  154, Dmax= 7.7e-03 nm, Epot=  2.77973e+03 Fmax= 2.18116e+03, atom= 263\n",
      "Step=  155, Dmax= 9.2e-03 nm, Epot=  2.77477e+03 Fmax= 1.04711e+04, atom= 263\n",
      "Step=  156, Dmax= 1.1e-02 nm, Epot=  2.70126e+03 Fmax= 5.22490e+03, atom= 263\n",
      "Step=  158, Dmax= 6.7e-03 nm, Epot=  2.67429e+03 Fmax= 4.08684e+03, atom= 263\n",
      "Step=  159, Dmax= 8.0e-03 nm, Epot=  2.66633e+03 Fmax= 7.35896e+03, atom= 263\n",
      "Step=  160, Dmax= 9.6e-03 nm, Epot=  2.63612e+03 Fmax= 6.02016e+03, atom= 263\n",
      "Step=  162, Dmax= 5.7e-03 nm, Epot=  2.59901e+03 Fmax= 2.07712e+03, atom= 263\n",
      "Step=  163, Dmax= 6.9e-03 nm, Epot=  2.58582e+03 Fmax= 7.28129e+03, atom= 263\n",
      "Step=  164, Dmax= 8.3e-03 nm, Epot=  2.54355e+03 Fmax= 4.37178e+03, atom= 263\n",
      "Step=  166, Dmax= 5.0e-03 nm, Epot=  2.51824e+03 Fmax= 2.50794e+03, atom= 263\n",
      "Step=  167, Dmax= 6.0e-03 nm, Epot=  2.51053e+03 Fmax= 6.01617e+03, atom= 263\n",
      "Step=  168, Dmax= 7.2e-03 nm, Epot=  2.47843e+03 Fmax= 3.87900e+03, atom= 263\n",
      "Step=  170, Dmax= 4.3e-03 nm, Epot=  2.45319e+03 Fmax= 2.16719e+03, atom= 263\n",
      "Step=  171, Dmax= 5.1e-03 nm, Epot=  2.44939e+03 Fmax= 5.67203e+03, atom= 165\n",
      "Step=  172, Dmax= 6.2e-03 nm, Epot=  2.41352e+03 Fmax= 3.76404e+03, atom= 165\n",
      "Step=  174, Dmax= 3.7e-03 nm, Epot=  2.39141e+03 Fmax= 1.94413e+03, atom= 165\n",
      "Step=  175, Dmax= 4.4e-03 nm, Epot=  2.37482e+03 Fmax= 4.79887e+03, atom= 165\n",
      "Step=  176, Dmax= 5.3e-03 nm, Epot=  2.35269e+03 Fmax= 3.40677e+03, atom= 165\n",
      "Step=  177, Dmax= 6.4e-03 nm, Epot=  2.34627e+03 Fmax= 6.35295e+03, atom= 165\n",
      "Step=  178, Dmax= 7.7e-03 nm, Epot=  2.32450e+03 Fmax= 5.44591e+03, atom= 165\n",
      "Step=  180, Dmax= 4.6e-03 nm, Epot=  2.29906e+03 Fmax= 1.60319e+03, atom= 165\n",
      "Step=  181, Dmax= 5.5e-03 nm, Epot=  2.28249e+03 Fmax= 6.92359e+03, atom= 165\n",
      "Step=  182, Dmax= 6.6e-03 nm, Epot=  2.25126e+03 Fmax= 3.23227e+03, atom= 165\n",
      "Step=  184, Dmax= 4.0e-03 nm, Epot=  2.23591e+03 Fmax= 2.89079e+03, atom= 165\n",
      "Step=  185, Dmax= 4.8e-03 nm, Epot=  2.22310e+03 Fmax= 4.40070e+03, atom= 165\n",
      "Step=  186, Dmax= 5.7e-03 nm, Epot=  2.20841e+03 Fmax= 4.40592e+03, atom= 165\n",
      "Step=  187, Dmax= 6.9e-03 nm, Epot=  2.20073e+03 Fmax= 6.10926e+03, atom= 165\n",
      "Step=  188, Dmax= 8.3e-03 nm, Epot=  2.18878e+03 Fmax= 6.55756e+03, atom= 165\n",
      "Step=  190, Dmax= 5.0e-03 nm, Epot=  2.15839e+03 Fmax= 1.02952e+03, atom= 165\n",
      "Step=  191, Dmax= 6.0e-03 nm, Epot=  2.13066e+03 Fmax= 8.09430e+03, atom= 165\n",
      "Step=  192, Dmax= 7.1e-03 nm, Epot=  2.09114e+03 Fmax= 2.83355e+03, atom= 165\n",
      "Step=  194, Dmax= 4.3e-03 nm, Epot=  2.07867e+03 Fmax= 3.73450e+03, atom= 165\n",
      "Step=  195, Dmax= 5.1e-03 nm, Epot=  2.06629e+03 Fmax= 4.12278e+03, atom= 165\n",
      "Step=  196, Dmax= 6.2e-03 nm, Epot=  2.05714e+03 Fmax= 5.32792e+03, atom= 165\n",
      "Step=  197, Dmax= 7.4e-03 nm, Epot=  2.04724e+03 Fmax= 5.98994e+03, atom= 165\n",
      "Step=  198, Dmax= 8.9e-03 nm, Epot=  2.04410e+03 Fmax= 7.60789e+03, atom= 165\n",
      "Step=  199, Dmax= 1.1e-02 nm, Epot=  2.03970e+03 Fmax= 8.68684e+03, atom= 165\n",
      "Step=  201, Dmax= 6.4e-03 nm, Epot=  1.99302e+03 Fmax= 1.10457e+03, atom= 165\n",
      "Step=  202, Dmax= 7.7e-03 nm, Epot=  1.98390e+03 Fmax= 1.05372e+04, atom= 165\n",
      "Step=  203, Dmax= 9.2e-03 nm, Epot=  1.92350e+03 Fmax= 3.55941e+03, atom= 165\n",
      "Step=  205, Dmax= 5.5e-03 nm, Epot=  1.91489e+03 Fmax= 4.89292e+03, atom= 165\n",
      "Step=  206, Dmax= 6.6e-03 nm, Epot=  1.90415e+03 Fmax= 5.25115e+03, atom= 165\n",
      "Step=  207, Dmax= 8.0e-03 nm, Epot=  1.90086e+03 Fmax= 6.92011e+03, atom= 165\n",
      "Step=  208, Dmax= 9.5e-03 nm, Epot=  1.89401e+03 Fmax= 7.67919e+03, atom= 165\n",
      "Step=  210, Dmax= 5.7e-03 nm, Epot=  1.85640e+03 Fmax= 1.09105e+03, atom= 165\n",
      "Step=  211, Dmax= 6.9e-03 nm, Epot=  1.84481e+03 Fmax= 9.36730e+03, atom= 165\n",
      "Step=  212, Dmax= 8.3e-03 nm, Epot=  1.79587e+03 Fmax= 3.26606e+03, atom= 165\n",
      "Step=  214, Dmax= 5.0e-03 nm, Epot=  1.78643e+03 Fmax= 4.29447e+03, atom= 165\n",
      "Step=  215, Dmax= 5.9e-03 nm, Epot=  1.77647e+03 Fmax= 4.80035e+03, atom= 165\n",
      "Step=  216, Dmax= 7.1e-03 nm, Epot=  1.77076e+03 Fmax= 6.08899e+03, atom= 165\n",
      "Step=  217, Dmax= 8.6e-03 nm, Epot=  1.76458e+03 Fmax= 6.99991e+03, atom= 165\n",
      "Step=  219, Dmax= 5.1e-03 nm, Epot=  1.73239e+03 Fmax= 9.35975e+02, atom= 181\n",
      "Step=  220, Dmax= 6.2e-03 nm, Epot=  1.70536e+03 Fmax= 7.66808e+03, atom= 165\n",
      "Step=  221, Dmax= 7.4e-03 nm, Epot=  1.67274e+03 Fmax= 3.62448e+03, atom= 165\n",
      "Step=  223, Dmax= 4.4e-03 nm, Epot=  1.66044e+03 Fmax= 3.16972e+03, atom= 165\n",
      "Step=  224, Dmax= 5.3e-03 nm, Epot=  1.65374e+03 Fmax= 4.94767e+03, atom= 165\n",
      "Step=  225, Dmax= 6.4e-03 nm, Epot=  1.64198e+03 Fmax= 4.83067e+03, atom= 165\n",
      "Step=  226, Dmax= 7.7e-03 nm, Epot=  1.64124e+03 Fmax= 6.86374e+03, atom= 165\n",
      "Step=  227, Dmax= 9.2e-03 nm, Epot=  1.63234e+03 Fmax= 7.20643e+03, atom= 165\n",
      "Step=  229, Dmax= 5.5e-03 nm, Epot=  1.59891e+03 Fmax= 1.21699e+03, atom= 165\n",
      "Step=  230, Dmax= 6.6e-03 nm, Epot=  1.59535e+03 Fmax= 8.95856e+03, atom= 165\n",
      "Step=  231, Dmax= 7.9e-03 nm, Epot=  1.55057e+03 Fmax= 3.17420e+03, atom= 165\n",
      "Step=  233, Dmax= 4.8e-03 nm, Epot=  1.54198e+03 Fmax= 4.13423e+03, atom= 165\n",
      "Step=  234, Dmax= 5.7e-03 nm, Epot=  1.53299e+03 Fmax= 4.58826e+03, atom= 165\n",
      "Step=  235, Dmax= 6.9e-03 nm, Epot=  1.52842e+03 Fmax= 5.92582e+03, atom= 165\n",
      "Step=  236, Dmax= 8.2e-03 nm, Epot=  1.52232e+03 Fmax= 6.63954e+03, atom= 165\n",
      "Step=  238, Dmax= 4.9e-03 nm, Epot=  1.49309e+03 Fmax= 9.43456e+02, atom= 181\n",
      "Step=  239, Dmax= 5.9e-03 nm, Epot=  1.47733e+03 Fmax= 7.87779e+03, atom= 165\n",
      "Step=  240, Dmax= 7.1e-03 nm, Epot=  1.44194e+03 Fmax= 3.02218e+03, atom= 165\n",
      "Step=  242, Dmax= 4.3e-03 nm, Epot=  1.43318e+03 Fmax= 3.47838e+03, atom= 165\n",
      "Step=  243, Dmax= 5.1e-03 nm, Epot=  1.42616e+03 Fmax= 4.38059e+03, atom= 165\n",
      "Step=  244, Dmax= 6.1e-03 nm, Epot=  1.41926e+03 Fmax= 4.98973e+03, atom= 165\n",
      "Step=  245, Dmax= 7.4e-03 nm, Epot=  1.41672e+03 Fmax= 6.31304e+03, atom= 165\n",
      "Step=  246, Dmax= 8.9e-03 nm, Epot=  1.41348e+03 Fmax= 7.18711e+03, atom= 165\n",
      "Step=  248, Dmax= 5.3e-03 nm, Epot=  1.38076e+03 Fmax= 9.48286e+02, atom= 165\n",
      "Step=  249, Dmax= 6.4e-03 nm, Epot=  1.37554e+03 Fmax= 8.64721e+03, atom= 165\n",
      "Step=  250, Dmax= 7.7e-03 nm, Epot=  1.33427e+03 Fmax= 3.06946e+03, atom= 165\n",
      "Step=  252, Dmax= 4.6e-03 nm, Epot=  1.32812e+03 Fmax= 3.91326e+03, atom= 165\n",
      "Step=  253, Dmax= 5.5e-03 nm, Epot=  1.32209e+03 Fmax= 4.53358e+03, atom= 165\n",
      "Step=  254, Dmax= 6.6e-03 nm, Epot=  1.31881e+03 Fmax= 5.53413e+03, atom= 165\n",
      "Step=  255, Dmax= 7.9e-03 nm, Epot=  1.31715e+03 Fmax= 6.61366e+03, atom= 165\n",
      "Step=  257, Dmax= 4.8e-03 nm, Epot=  1.28932e+03 Fmax= 6.56704e+02, atom= 259\n",
      "Step=  258, Dmax= 5.7e-03 nm, Epot=  1.27417e+03 Fmax= 8.05876e+03, atom= 165\n",
      "Step=  259, Dmax= 6.9e-03 nm, Epot=  1.23733e+03 Fmax= 2.39587e+03, atom= 165\n",
      "Step=  261, Dmax= 4.1e-03 nm, Epot=  1.23339e+03 Fmax= 3.92681e+03, atom= 165\n",
      "Step=  262, Dmax= 4.9e-03 nm, Epot=  1.22551e+03 Fmax= 3.58302e+03, atom= 165\n",
      "Step=  264, Dmax= 3.0e-03 nm, Epot=  1.21456e+03 Fmax= 9.61451e+02, atom= 165\n",
      "Step=  265, Dmax= 3.6e-03 nm, Epot=  1.20578e+03 Fmax= 4.37391e+03, atom= 165\n",
      "Step=  266, Dmax= 4.3e-03 nm, Epot=  1.19284e+03 Fmax= 2.16416e+03, atom= 165\n",
      "Step=  268, Dmax= 2.6e-03 nm, Epot=  1.18612e+03 Fmax= 1.71553e+03, atom= 165\n",
      "Step=  269, Dmax= 3.1e-03 nm, Epot=  1.18072e+03 Fmax= 3.01673e+03, atom= 165\n",
      "Step=  270, Dmax= 3.7e-03 nm, Epot=  1.17361e+03 Fmax= 2.58092e+03, atom= 165\n",
      "Step=  271, Dmax= 4.4e-03 nm, Epot=  1.17151e+03 Fmax= 4.21302e+03, atom= 165\n",
      "Step=  272, Dmax= 5.3e-03 nm, Epot=  1.16418e+03 Fmax= 3.85825e+03, atom= 165\n",
      "Step=  274, Dmax= 3.2e-03 nm, Epot=  1.15257e+03 Fmax= 1.02543e+03, atom= 165\n",
      "Step=  275, Dmax= 3.8e-03 nm, Epot=  1.14742e+03 Fmax= 4.71111e+03, atom= 165\n",
      "Step=  276, Dmax= 4.6e-03 nm, Epot=  1.13356e+03 Fmax= 2.31565e+03, atom= 165\n",
      "Step=  278, Dmax= 2.7e-03 nm, Epot=  1.12731e+03 Fmax= 1.85499e+03, atom= 165\n",
      "Step=  279, Dmax= 3.3e-03 nm, Epot=  1.12334e+03 Fmax= 3.22966e+03, atom= 165\n",
      "Step=  280, Dmax= 4.0e-03 nm, Epot=  1.11665e+03 Fmax= 2.78757e+03, atom= 165\n",
      "Step=  281, Dmax= 4.8e-03 nm, Epot=  1.11631e+03 Fmax= 4.51317e+03, atom= 165\n",
      "Step=  282, Dmax= 5.7e-03 nm, Epot=  1.10943e+03 Fmax= 4.16290e+03, atom= 165\n",
      "Step=  284, Dmax= 3.4e-03 nm, Epot=  1.09680e+03 Fmax= 1.08515e+03, atom= 165\n",
      "Step=  285, Dmax= 4.1e-03 nm, Epot=  1.09517e+03 Fmax= 5.08364e+03, atom= 165\n",
      "Step=  286, Dmax= 4.9e-03 nm, Epot=  1.07995e+03 Fmax= 2.46776e+03, atom= 165\n",
      "Step=  288, Dmax= 3.0e-03 nm, Epot=  1.07407e+03 Fmax= 2.01584e+03, atom= 165\n",
      "Step=  289, Dmax= 3.5e-03 nm, Epot=  1.07140e+03 Fmax= 3.44697e+03, atom= 165\n",
      "Step=  290, Dmax= 4.3e-03 nm, Epot=  1.06511e+03 Fmax= 3.02157e+03, atom= 165\n",
      "Step=  292, Dmax= 2.6e-03 nm, Epot=  1.05699e+03 Fmax= 9.03001e+02, atom= 165\n",
      "Step=  293, Dmax= 3.1e-03 nm, Epot=  1.05123e+03 Fmax= 3.68281e+03, atom= 165\n",
      "Step=  294, Dmax= 3.7e-03 nm, Epot=  1.04179e+03 Fmax= 1.96165e+03, atom= 165\n",
      "Step=  296, Dmax= 2.2e-03 nm, Epot=  1.03650e+03 Fmax= 1.37904e+03, atom= 165\n",
      "Step=  297, Dmax= 2.6e-03 nm, Epot=  1.03238e+03 Fmax= 2.71476e+03, atom= 165\n",
      "Step=  298, Dmax= 3.2e-03 nm, Epot=  1.02647e+03 Fmax= 2.10710e+03, atom= 165\n",
      "Step=  299, Dmax= 3.8e-03 nm, Epot=  1.02533e+03 Fmax= 3.76376e+03, atom= 165\n",
      "Step=  300, Dmax= 4.6e-03 nm, Epot=  1.01878e+03 Fmax= 3.19139e+03, atom= 165\n",
      "Step=  302, Dmax= 2.7e-03 nm, Epot=  1.01033e+03 Fmax= 1.02594e+03, atom= 165\n",
      "Step=  303, Dmax= 3.3e-03 nm, Epot=  1.00724e+03 Fmax= 3.91474e+03, atom= 165\n",
      "Step=  304, Dmax= 4.0e-03 nm, Epot=  9.97373e+02 Fmax= 2.15103e+03, atom= 165\n",
      "Step=  306, Dmax= 2.4e-03 nm, Epot=  9.92123e+02 Fmax= 1.44226e+03, atom= 165\n",
      "Step=  307, Dmax= 2.8e-03 nm, Epot=  9.89089e+02 Fmax= 2.95625e+03, atom= 165\n",
      "Step=  308, Dmax= 3.4e-03 nm, Epot=  9.83041e+02 Fmax= 2.22884e+03, atom= 165\n",
      "Step=  310, Dmax= 2.0e-03 nm, Epot=  9.77448e+02 Fmax= 9.27353e+02, atom= 165\n",
      "Step=  311, Dmax= 2.5e-03 nm, Epot=  9.72512e+02 Fmax= 2.75229e+03, atom= 165\n",
      "Step=  312, Dmax= 3.0e-03 nm, Epot=  9.66270e+02 Fmax= 1.78441e+03, atom= 165\n",
      "Step=  313, Dmax= 3.5e-03 nm, Epot=  9.65452e+02 Fmax= 3.56884e+03, atom= 165\n",
      "Step=  314, Dmax= 4.2e-03 nm, Epot=  9.59059e+02 Fmax= 2.95330e+03, atom= 165\n",
      "Step=  316, Dmax= 2.5e-03 nm, Epot=  9.51672e+02 Fmax= 9.17975e+02, atom= 165\n",
      "Step=  317, Dmax= 3.1e-03 nm, Epot=  9.49076e+02 Fmax= 3.83926e+03, atom= 165\n",
      "Step=  318, Dmax= 3.7e-03 nm, Epot=  9.39193e+02 Fmax= 1.74182e+03, atom= 165\n",
      "Step=  320, Dmax= 2.2e-03 nm, Epot=  9.34945e+02 Fmax= 1.65728e+03, atom= 165\n",
      "Step=  321, Dmax= 2.6e-03 nm, Epot=  9.31652e+02 Fmax= 2.33534e+03, atom= 165\n",
      "Step=  322, Dmax= 3.2e-03 nm, Epot=  9.27940e+02 Fmax= 2.54583e+03, atom= 165\n",
      "Step=  323, Dmax= 3.8e-03 nm, Epot=  9.25810e+02 Fmax= 3.22624e+03, atom= 165\n",
      "Step=  324, Dmax= 4.6e-03 nm, Epot=  9.23709e+02 Fmax= 3.78721e+03, atom= 165\n",
      "Step=  325, Dmax= 5.5e-03 nm, Epot=  9.23305e+02 Fmax= 4.54286e+03, atom= 165\n",
      "Step=  327, Dmax= 3.3e-03 nm, Epot=  9.08661e+02 Fmax= 5.01847e+02, atom= 165\n",
      "Step=  328, Dmax= 3.9e-03 nm, Epot=  9.02280e+02 Fmax= 5.28743e+03, atom= 165\n",
      "Step=  329, Dmax= 4.7e-03 nm, Epot=  8.84760e+02 Fmax= 1.97180e+03, atom= 165\n",
      "Step=  331, Dmax= 2.8e-03 nm, Epot=  8.81651e+02 Fmax= 2.32837e+03, atom= 165\n",
      "Step=  332, Dmax= 3.4e-03 nm, Epot=  8.79264e+02 Fmax= 2.91819e+03, atom= 165\n",
      "Step=  333, Dmax= 4.1e-03 nm, Epot=  8.76869e+02 Fmax= 3.29170e+03, atom= 165\n",
      "Step=  335, Dmax= 2.5e-03 nm, Epot=  8.68077e+02 Fmax= 4.80886e+02, atom= 165\n",
      "\n",
      "writing lowest energy coordinates.\n",
      "\n",
      "Back Off! I just backed up conf1-min.gro to ./#conf1-min.gro.5#\n",
      "\n",
      "Steepest Descents converged to Fmax < 500 in 336 steps\n",
      "Potential Energy  =  8.6807745e+02\n",
      "Maximum force     =  4.8088583e+02 on atom 165\n",
      "Norm of force     =  1.0307687e+02\n",
      "\n",
      "GROMACS reminds you: \"All You Need is Greed\" (Aztec Camera)\n",
      "\n"
     ]
    },
    {
     "name": "stdout",
     "output_type": "stream",
     "text": [
      "job.batch \"gmx-iemgph3ys\" deleted\r\n"
     ]
    }
   ],
   "source": [
    "!{gmx} mdrun -v -deffnm {base}-min -ntomp 1 -nb cpu -pme cpu"
   ]
  },
  {
   "cell_type": "markdown",
   "id": "1f50c86d",
   "metadata": {
    "slideshow": {
     "slide_type": "slide"
    }
   },
   "source": [
    "<img src=\"gmx-k8s.png\" width=80%/>"
   ]
  },
  {
   "cell_type": "code",
   "execution_count": 21,
   "id": "039b1f41",
   "metadata": {
    "slideshow": {
     "slide_type": "slide"
    }
   },
   "outputs": [
    {
     "data": {
      "application/vnd.jupyter.widget-view+json": {
       "model_id": "a0919920fc0e449787c32709f0a3763d",
       "version_major": 2,
       "version_minor": 0
      },
      "text/plain": [
       "NGLWidget(max_frame=263)"
      ]
     },
     "metadata": {},
     "output_type": "display_data"
    }
   ],
   "source": [
    "v = nv.show_mdtraj(md.load(\"conf1-min.trr\",top=\"conf1-min.gro\"))\n",
    "v.add_representation(\"licorice\")\n",
    "v"
   ]
  },
  {
   "cell_type": "markdown",
   "id": "cb5b1e82",
   "metadata": {
    "slideshow": {
     "slide_type": "slide"
    }
   },
   "source": [
    "# Náročnější výpočet v notebooku"
   ]
  },
  {
   "cell_type": "code",
   "execution_count": 25,
   "id": "9184295e",
   "metadata": {},
   "outputs": [],
   "source": [
    "def scale(cores):\n",
    "    !kubectl scale deployment.apps/chicken-and-egg{os.environ.get('K8S_LABEL')}-placeholder --replicas={cores}"
   ]
  },
  {
   "cell_type": "code",
   "execution_count": 26,
   "id": "ffad4cb6",
   "metadata": {
    "slideshow": {
     "slide_type": "skip"
    }
   },
   "outputs": [
    {
     "name": "stdout",
     "output_type": "stream",
     "text": [
      "deployment.apps/chicken-and-egg-1l2y-placeholder scaled\n",
      "deployment.apps/chicken-and-egg-1l2y-placeholder scaled\n",
      "conformations (original dimensions):  2398\n",
      "non-zero distances:  23950\n"
     ]
    }
   ],
   "source": [
    "neighs = 5\n",
    "dims = 2\n",
    "tr = md.load('landmarks.pdb')\n",
    "scale(ncores)\n",
    "# nconf = niter * nsteps\n",
    "nconf = len(tr)\n",
    "\n",
    "# compute all-to-all RMSD and select _k_ closest neighbours\n",
    "row=[]\n",
    "col=[]\n",
    "dat=[]\n",
    "\n",
    "for i in range(nconf):\n",
    "    d = md.rmsd(tr,tr,frame=i)\n",
    "    d[range(i+1)] = np.inf\n",
    "    for _ in range(neighs):\n",
    "        j = np.argmin(d)\n",
    "        if d[j] < np.inf:\n",
    "            row.append(i)\n",
    "            col.append(j)\n",
    "            dat.append(d[j])\n",
    "            row.append(j)\n",
    "            col.append(i)\n",
    "            dat.append(d[j])\n",
    "            d[j] = np.inf\n",
    "\n",
    "# store results in sparse matrix\n",
    "dist = coo_matrix((dat,(row,col)),shape=(nconf,nconf)) \n",
    "scale(0)\n",
    "\n",
    "# check sanity\n",
    "print(\"conformations (original dimensions): \", nconf)\n",
    "print(\"non-zero distances: \", dist.getnnz())"
   ]
  },
  {
   "cell_type": "code",
   "execution_count": 31,
   "id": "0a6ff763",
   "metadata": {
    "slideshow": {
     "slide_type": "skip"
    }
   },
   "outputs": [],
   "source": [
    "save_npz(\"dist.npz\",dist)"
   ]
  },
  {
   "cell_type": "code",
   "execution_count": 32,
   "id": "3f00ed42",
   "metadata": {
    "slideshow": {
     "slide_type": "-"
    }
   },
   "outputs": [
    {
     "name": "stdout",
     "output_type": "stream",
     "text": [
      "deployment.apps/chicken-and-egg-1l2y-placeholder scaled\n",
      "deployment.apps/chicken-and-egg-1l2y-placeholder scaled\n"
     ]
    }
   ],
   "source": [
    "dist = load_npz(\"dist.npz\")\n",
    "scale(ncores)\n",
    "sp = shortest_path(dist,directed=False)\n",
    "mds = MDS(n_components=dims,dissimilarity='precomputed',n_jobs=ncores)\n",
    "emb = mds.fit_transform(sp)\n",
    "scale(0)"
   ]
  },
  {
   "cell_type": "markdown",
   "id": "33d08aa7",
   "metadata": {
    "slideshow": {
     "slide_type": "slide"
    }
   },
   "source": [
    "<img src=\"scale.png\" width=80%/>"
   ]
  },
  {
   "cell_type": "code",
   "execution_count": 33,
   "id": "353c9206",
   "metadata": {
    "slideshow": {
     "slide_type": "slide"
    }
   },
   "outputs": [
    {
     "data": {
      "image/png": "[encoded data removed]",
      "text/plain": [
       "<Figure size 864x576 with 1 Axes>"
      ]
     },
     "metadata": {
      "needs_background": "light"
     },
     "output_type": "display_data"
    }
   ],
   "source": [
    "plt.figure(figsize=(12,8))\n",
    "plt.scatter(*emb.transpose(),marker='.')\n",
    "plt.show()"
   ]
  },
  {
   "cell_type": "markdown",
   "id": "69374cea",
   "metadata": {
    "slideshow": {
     "slide_type": "slide"
    }
   },
   "source": [
    "# Náročnější výpočet v dalším kontejneru\n",
    "\n",
    "- Podobně prvnímu příkladu -- výpočet ve vedlejším kontejneru, lze alokovat \"libovolné\" zdroje (CPU, GPU, RAM)\n",
    "- O spuštění se stará plánovač K8s\n",
    "- Déle trvající úlohy mohou být restartovány (např. se staly obětí scale() někoho jiného)\n",
    "- Je třeba ukládat checkpointy a umět se restartovat"
   ]
  },
  {
   "cell_type": "markdown",
   "id": "b852a526",
   "metadata": {
    "slideshow": {
     "slide_type": "slide"
    }
   },
   "source": [
    "# Výsledky"
   ]
  },
  {
   "cell_type": "code",
   "execution_count": 38,
   "id": "e2235528",
   "metadata": {},
   "outputs": [
    {
     "data": {
      "application/vnd.jupyter.widget-view+json": {
       "model_id": "4fefa65f64074ef088af87a220691cca",
       "version_major": 2,
       "version_minor": 0
      },
      "text/plain": [
       "NGLWidget(max_frame=20000)"
      ]
     },
     "metadata": {},
     "output_type": "display_data"
    }
   ],
   "source": [
    "tr = md.load_xtc(\"md-ann-pbc.xtc\",top='1L2Y.gro')\n",
    "idx=tr[0].top.select(\"name CA\")\n",
    "tr.superpose(tr[0],atom_indices=idx)\n",
    "v = nv.show_mdtraj(tr)\n",
    "#v.add_representation(\"licorice\")\n",
    "v"
   ]
  },
  {
   "cell_type": "markdown",
   "id": "d8c5df90",
   "metadata": {
    "slideshow": {
     "slide_type": "slide"
    }
   },
   "source": [
    "# Shrnutí"
   ]
  },
  {
   "cell_type": "markdown",
   "id": "556d9b60",
   "metadata": {
    "slideshow": {
     "slide_type": "slide"
    }
   },
   "source": [
    "# Poděkování\n",
    "\n",
    "- Vojtěch Spiwok: zdroj inspirujících problémů\n",
    "- Vladimír Višňovský: implementace aplikací\n",
    "- Viktória Spišaková, Lukáš Hejtmánek: budování infrastruktury K8s\n",
    "- Dalibor Klusáček: netradiční plánování úloh"
   ]
  }
 ],
 "metadata": {
  "celltoolbar": "Slideshow",
  "kernelspec": {
   "display_name": "Python 3 (ipykernel)",
   "language": "python",
   "name": "python3"
  },
  "language_info": {
   "codemirror_mode": {
    "name": "ipython",
    "version": 3
   },
   "file_extension": ".py",
   "mimetype": "text/x-python",
   "name": "python",
   "nbconvert_exporter": "python",
   "pygments_lexer": "ipython3",
   "version": "3.8.10"
  },
  "rise": {
   "autolaunch": true,
   "controls": false,
   "enable_chalkboard": true,
   "slideNumber": "c/t",
   "theme": "ljocha"
  }
 },
 "nbformat": 4,
 "nbformat_minor": 5
}
